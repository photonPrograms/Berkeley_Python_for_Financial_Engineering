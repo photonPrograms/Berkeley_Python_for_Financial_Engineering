{
 "cells": [
  {
   "cell_type": "markdown",
   "id": "1f6e84b0-e32b-4917-9168-47bd5edef677",
   "metadata": {},
   "source": [
    "# Environment Setup"
   ]
  },
  {
   "cell_type": "code",
   "execution_count": 18,
   "id": "de42fe78-5e5d-4831-839f-a81b6e47a617",
   "metadata": {},
   "outputs": [],
   "source": [
    "# standard library imports\n",
    "import pandas as pd\n",
    "import numpy as np\n",
    "import os"
   ]
  },
  {
   "cell_type": "code",
   "execution_count": 19,
   "id": "5b5e4e99-3fcf-409d-a3d2-e183c04246f1",
   "metadata": {},
   "outputs": [],
   "source": [
    "# other library imports\n",
    "import papermill as pm\n",
    "import scrapbook as sb\n",
    "import sqlite3"
   ]
  },
  {
   "cell_type": "markdown",
   "id": "165fb90d-3cb4-4e9f-8cb8-f52aac773ea8",
   "metadata": {},
   "source": [
    "# Loading Data"
   ]
  },
  {
   "cell_type": "code",
   "execution_count": 20,
   "id": "06de2b13-fda3-4403-9f9f-92c6e2a367e7",
   "metadata": {
    "editable": true,
    "slideshow": {
     "slide_type": ""
    },
    "tags": []
   },
   "outputs": [],
   "source": [
    "# load the database and initialize a cursor\n",
    "conn = sqlite3.connect('../data/data.db')\n",
    "cursor = conn.cursor()"
   ]
  },
  {
   "cell_type": "code",
   "execution_count": 21,
   "id": "db1be9b2-5506-4aaa-ad63-4b82c38f05c6",
   "metadata": {
    "editable": true,
    "slideshow": {
     "slide_type": ""
    },
    "tags": []
   },
   "outputs": [],
   "source": [
    "# get the data into a dataframe\n",
    "cursor.execute(\"select * from ohlc_hw_cleaned\")\n",
    "df = pd.DataFrame(\n",
    "    cursor.fetchall(),\n",
    "    columns = [\n",
    "        \"ts\", \"open\", \"high\",\n",
    "        \"low\", \"close\", \"adj_close\",\n",
    "        \"volume\", \"ticker\"\n",
    "    ]\n",
    ")\n",
    "df.head()\n",
    "conn.close()"
   ]
  },
  {
   "cell_type": "markdown",
   "id": "28edd06c-6d92-4919-a5a9-067cf65cb2f0",
   "metadata": {},
   "source": [
    "# Running the Notebooks"
   ]
  },
  {
   "cell_type": "code",
   "execution_count": 22,
   "id": "a72ec04a-4adb-4d30-8cc6-cb604fe76334",
   "metadata": {},
   "outputs": [
    {
     "name": "stdout",
     "output_type": "stream",
     "text": [
      "['HON' 'IBM' 'PG' 'DIS' 'GE' 'CVX' 'JNJ' 'MRK' 'KO' 'BA' 'XOM' 'CAT' 'RTX'\n",
      " 'MCD' 'WFC' 'LLY' 'AXP' 'TXN' 'PFE' 'DE' 'BMY' 'PEP' 'WMT' 'SPGI' 'BAC'\n",
      " 'MMC' 'NEE' 'CVS' 'LMT' 'C' 'DHR' 'UNP' 'ADP' 'CMCSA' 'AMD' 'ADI' 'JPM'\n",
      " 'LOW' 'PGR' 'AMAT' 'SYK' 'INTC' 'TMO' 'ABT' 'NKE' 'AAPL' 'HD' 'COP'\n",
      " 'AMGN' 'VZ' 'T' 'LRCX' 'MU' 'UNH' 'ORCL' 'MSFT' 'COST' 'ADBE' 'TJX'\n",
      " 'SCHW' 'CSCO' 'REGN' 'VRTX' 'QCOM' 'GILD' 'SNPS' 'BSX' 'SBUX' 'MS' 'INTU'\n",
      " 'BRK-B' 'AMZN' 'PLD' 'AMT' 'NVDA' 'BKNG' 'GS' 'BLK' 'UPS' 'ISRG' 'MDLZ'\n",
      " 'ELV' 'NFLX' 'CRM' 'GOOG' 'MA' 'TMUS' 'BX' 'PM' 'V' 'AVGO' 'TSLA' 'KKR'\n",
      " 'META' 'NOW' 'PANW' 'ABBV' 'ZTS' 'UBER' 'ABNB']\n"
     ]
    }
   ],
   "source": [
    "uniqueTickers = df[\"ticker\"].unique()\n",
    "print(uniqueTickers)"
   ]
  },
  {
   "cell_type": "code",
   "execution_count": 23,
   "id": "9e1d933a-f648-434e-a341-a65980ecb481",
   "metadata": {},
   "outputs": [],
   "source": [
    "# create an output folder if it does not exist\n",
    "outputDir = \"../output\"\n",
    "if not os.path.exists(outputDir):\n",
    "    os.mkdir(outputDir)"
   ]
  },
  {
   "cell_type": "code",
   "execution_count": 24,
   "id": "e205f2d6-6909-4f99-8bb6-5e207c64dcb9",
   "metadata": {
    "editable": true,
    "slideshow": {
     "slide_type": ""
    },
    "tags": []
   },
   "outputs": [
    {
     "name": "stderr",
     "output_type": "stream",
     "text": [
      "Passed unknown parameter: ticker\n",
      "Passed unknown parameter: months\n",
      "Input notebook does not contain a cell with tag 'parameters'\n"
     ]
    },
    {
     "name": "stdout",
     "output_type": "stream",
     "text": [
      "---- HON: Started... ----\n"
     ]
    },
    {
     "name": "stderr",
     "output_type": "stream",
     "text": [
      "Executing:   0%|                                                                                             | 0/23 [00:00<?, ?cell/s]0.00s - Debugger warning: It seems that frozen modules are being used, which may\n",
      "0.00s - make the debugger miss breakpoints. Please pass -Xfrozen_modules=off\n",
      "0.00s - to python to disable frozen modules.\n",
      "0.00s - Note: Debugging will proceed. Set PYDEVD_DISABLE_FILE_VALIDATION=1 to disable this validation.\n",
      "Executing: 100%|████████████████████████████████████████████████████████████████████████████████████| 23/23 [00:05<00:00,  4.24cell/s]\n",
      "Passed unknown parameter: ticker\n",
      "Passed unknown parameter: months\n",
      "Input notebook does not contain a cell with tag 'parameters'\n"
     ]
    },
    {
     "name": "stdout",
     "output_type": "stream",
     "text": [
      "---- HON: Done! ----\n",
      "---- IBM: Started... ----\n"
     ]
    },
    {
     "name": "stderr",
     "output_type": "stream",
     "text": [
      "Executing:   0%|                                                                                             | 0/23 [00:00<?, ?cell/s]0.00s - Debugger warning: It seems that frozen modules are being used, which may\n",
      "0.00s - make the debugger miss breakpoints. Please pass -Xfrozen_modules=off\n",
      "0.00s - to python to disable frozen modules.\n",
      "0.00s - Note: Debugging will proceed. Set PYDEVD_DISABLE_FILE_VALIDATION=1 to disable this validation.\n",
      "Executing: 100%|████████████████████████████████████████████████████████████████████████████████████| 23/23 [00:05<00:00,  4.03cell/s]\n",
      "Passed unknown parameter: ticker\n",
      "Passed unknown parameter: months\n",
      "Input notebook does not contain a cell with tag 'parameters'\n"
     ]
    },
    {
     "name": "stdout",
     "output_type": "stream",
     "text": [
      "---- IBM: Done! ----\n",
      "---- PG: Started... ----\n"
     ]
    },
    {
     "name": "stderr",
     "output_type": "stream",
     "text": [
      "Executing:   0%|                                                                                             | 0/23 [00:00<?, ?cell/s]0.00s - Debugger warning: It seems that frozen modules are being used, which may\n",
      "0.00s - make the debugger miss breakpoints. Please pass -Xfrozen_modules=off\n",
      "0.00s - to python to disable frozen modules.\n",
      "0.00s - Note: Debugging will proceed. Set PYDEVD_DISABLE_FILE_VALIDATION=1 to disable this validation.\n",
      "Executing: 100%|████████████████████████████████████████████████████████████████████████████████████| 23/23 [00:05<00:00,  4.15cell/s]\n",
      "Passed unknown parameter: ticker\n",
      "Passed unknown parameter: months\n",
      "Input notebook does not contain a cell with tag 'parameters'\n"
     ]
    },
    {
     "name": "stdout",
     "output_type": "stream",
     "text": [
      "---- PG: Done! ----\n",
      "---- DIS: Started... ----\n"
     ]
    },
    {
     "name": "stderr",
     "output_type": "stream",
     "text": [
      "Executing:   0%|                                                                                             | 0/23 [00:00<?, ?cell/s]0.00s - Debugger warning: It seems that frozen modules are being used, which may\n",
      "0.00s - make the debugger miss breakpoints. Please pass -Xfrozen_modules=off\n",
      "0.00s - to python to disable frozen modules.\n",
      "0.00s - Note: Debugging will proceed. Set PYDEVD_DISABLE_FILE_VALIDATION=1 to disable this validation.\n",
      "Executing: 100%|████████████████████████████████████████████████████████████████████████████████████| 23/23 [00:05<00:00,  4.07cell/s]\n",
      "Passed unknown parameter: ticker\n",
      "Passed unknown parameter: months\n",
      "Input notebook does not contain a cell with tag 'parameters'\n"
     ]
    },
    {
     "name": "stdout",
     "output_type": "stream",
     "text": [
      "---- DIS: Done! ----\n",
      "---- GE: Started... ----\n"
     ]
    },
    {
     "name": "stderr",
     "output_type": "stream",
     "text": [
      "Executing:   0%|                                                                                             | 0/23 [00:00<?, ?cell/s]0.00s - Debugger warning: It seems that frozen modules are being used, which may\n",
      "0.00s - make the debugger miss breakpoints. Please pass -Xfrozen_modules=off\n",
      "0.00s - to python to disable frozen modules.\n",
      "0.00s - Note: Debugging will proceed. Set PYDEVD_DISABLE_FILE_VALIDATION=1 to disable this validation.\n",
      "Executing: 100%|████████████████████████████████████████████████████████████████████████████████████| 23/23 [00:05<00:00,  3.99cell/s]\n",
      "Passed unknown parameter: ticker\n",
      "Passed unknown parameter: months\n",
      "Input notebook does not contain a cell with tag 'parameters'\n"
     ]
    },
    {
     "name": "stdout",
     "output_type": "stream",
     "text": [
      "---- GE: Done! ----\n",
      "---- CVX: Started... ----\n"
     ]
    },
    {
     "name": "stderr",
     "output_type": "stream",
     "text": [
      "Executing:   0%|                                                                                             | 0/23 [00:00<?, ?cell/s]0.00s - Debugger warning: It seems that frozen modules are being used, which may\n",
      "0.00s - make the debugger miss breakpoints. Please pass -Xfrozen_modules=off\n",
      "0.00s - to python to disable frozen modules.\n",
      "0.00s - Note: Debugging will proceed. Set PYDEVD_DISABLE_FILE_VALIDATION=1 to disable this validation.\n",
      "Executing: 100%|████████████████████████████████████████████████████████████████████████████████████| 23/23 [00:05<00:00,  3.96cell/s]\n",
      "Passed unknown parameter: ticker\n",
      "Passed unknown parameter: months\n",
      "Input notebook does not contain a cell with tag 'parameters'\n"
     ]
    },
    {
     "name": "stdout",
     "output_type": "stream",
     "text": [
      "---- CVX: Done! ----\n",
      "---- JNJ: Started... ----\n"
     ]
    },
    {
     "name": "stderr",
     "output_type": "stream",
     "text": [
      "Executing:   0%|                                                                                             | 0/23 [00:00<?, ?cell/s]0.00s - Debugger warning: It seems that frozen modules are being used, which may\n",
      "0.00s - make the debugger miss breakpoints. Please pass -Xfrozen_modules=off\n",
      "0.00s - to python to disable frozen modules.\n",
      "0.00s - Note: Debugging will proceed. Set PYDEVD_DISABLE_FILE_VALIDATION=1 to disable this validation.\n",
      "Executing: 100%|████████████████████████████████████████████████████████████████████████████████████| 23/23 [00:05<00:00,  3.96cell/s]\n",
      "Passed unknown parameter: ticker\n",
      "Passed unknown parameter: months\n",
      "Input notebook does not contain a cell with tag 'parameters'\n"
     ]
    },
    {
     "name": "stdout",
     "output_type": "stream",
     "text": [
      "---- JNJ: Done! ----\n",
      "---- MRK: Started... ----\n"
     ]
    },
    {
     "name": "stderr",
     "output_type": "stream",
     "text": [
      "Executing:   0%|                                                                                             | 0/23 [00:00<?, ?cell/s]0.00s - Debugger warning: It seems that frozen modules are being used, which may\n",
      "0.00s - make the debugger miss breakpoints. Please pass -Xfrozen_modules=off\n",
      "0.00s - to python to disable frozen modules.\n",
      "0.00s - Note: Debugging will proceed. Set PYDEVD_DISABLE_FILE_VALIDATION=1 to disable this validation.\n",
      "Executing: 100%|████████████████████████████████████████████████████████████████████████████████████| 23/23 [00:05<00:00,  4.15cell/s]\n",
      "Passed unknown parameter: ticker\n",
      "Passed unknown parameter: months\n",
      "Input notebook does not contain a cell with tag 'parameters'\n"
     ]
    },
    {
     "name": "stdout",
     "output_type": "stream",
     "text": [
      "---- MRK: Done! ----\n",
      "---- KO: Started... ----\n"
     ]
    },
    {
     "name": "stderr",
     "output_type": "stream",
     "text": [
      "Executing:   0%|                                                                                             | 0/23 [00:00<?, ?cell/s]0.00s - Debugger warning: It seems that frozen modules are being used, which may\n",
      "0.00s - make the debugger miss breakpoints. Please pass -Xfrozen_modules=off\n",
      "0.00s - to python to disable frozen modules.\n",
      "0.00s - Note: Debugging will proceed. Set PYDEVD_DISABLE_FILE_VALIDATION=1 to disable this validation.\n",
      "Executing: 100%|████████████████████████████████████████████████████████████████████████████████████| 23/23 [00:05<00:00,  4.10cell/s]\n",
      "Passed unknown parameter: ticker\n",
      "Passed unknown parameter: months\n",
      "Input notebook does not contain a cell with tag 'parameters'\n"
     ]
    },
    {
     "name": "stdout",
     "output_type": "stream",
     "text": [
      "---- KO: Done! ----\n",
      "---- BA: Started... ----\n"
     ]
    },
    {
     "name": "stderr",
     "output_type": "stream",
     "text": [
      "Executing:   0%|                                                                                             | 0/23 [00:00<?, ?cell/s]0.00s - Debugger warning: It seems that frozen modules are being used, which may\n",
      "0.00s - make the debugger miss breakpoints. Please pass -Xfrozen_modules=off\n",
      "0.00s - to python to disable frozen modules.\n",
      "0.00s - Note: Debugging will proceed. Set PYDEVD_DISABLE_FILE_VALIDATION=1 to disable this validation.\n",
      "Executing: 100%|████████████████████████████████████████████████████████████████████████████████████| 23/23 [00:05<00:00,  4.09cell/s]\n",
      "Passed unknown parameter: ticker\n",
      "Passed unknown parameter: months\n",
      "Input notebook does not contain a cell with tag 'parameters'\n"
     ]
    },
    {
     "name": "stdout",
     "output_type": "stream",
     "text": [
      "---- BA: Done! ----\n",
      "---- XOM: Started... ----\n"
     ]
    },
    {
     "name": "stderr",
     "output_type": "stream",
     "text": [
      "Executing:   0%|                                                                                             | 0/23 [00:00<?, ?cell/s]0.00s - Debugger warning: It seems that frozen modules are being used, which may\n",
      "0.00s - make the debugger miss breakpoints. Please pass -Xfrozen_modules=off\n",
      "0.00s - to python to disable frozen modules.\n",
      "0.00s - Note: Debugging will proceed. Set PYDEVD_DISABLE_FILE_VALIDATION=1 to disable this validation.\n",
      "Executing: 100%|████████████████████████████████████████████████████████████████████████████████████| 23/23 [00:05<00:00,  3.91cell/s]\n",
      "Passed unknown parameter: ticker\n",
      "Passed unknown parameter: months\n",
      "Input notebook does not contain a cell with tag 'parameters'\n"
     ]
    },
    {
     "name": "stdout",
     "output_type": "stream",
     "text": [
      "---- XOM: Done! ----\n",
      "---- CAT: Started... ----\n"
     ]
    },
    {
     "name": "stderr",
     "output_type": "stream",
     "text": [
      "Executing:   0%|                                                                                             | 0/23 [00:00<?, ?cell/s]0.00s - Debugger warning: It seems that frozen modules are being used, which may\n",
      "0.00s - make the debugger miss breakpoints. Please pass -Xfrozen_modules=off\n",
      "0.00s - to python to disable frozen modules.\n",
      "0.00s - Note: Debugging will proceed. Set PYDEVD_DISABLE_FILE_VALIDATION=1 to disable this validation.\n",
      "Executing: 100%|████████████████████████████████████████████████████████████████████████████████████| 23/23 [00:05<00:00,  4.05cell/s]\n",
      "Passed unknown parameter: ticker\n",
      "Passed unknown parameter: months\n",
      "Input notebook does not contain a cell with tag 'parameters'\n"
     ]
    },
    {
     "name": "stdout",
     "output_type": "stream",
     "text": [
      "---- CAT: Done! ----\n",
      "---- RTX: Started... ----\n"
     ]
    },
    {
     "name": "stderr",
     "output_type": "stream",
     "text": [
      "Executing:   0%|                                                                                             | 0/23 [00:00<?, ?cell/s]0.00s - Debugger warning: It seems that frozen modules are being used, which may\n",
      "0.00s - make the debugger miss breakpoints. Please pass -Xfrozen_modules=off\n",
      "0.00s - to python to disable frozen modules.\n",
      "0.00s - Note: Debugging will proceed. Set PYDEVD_DISABLE_FILE_VALIDATION=1 to disable this validation.\n",
      "Executing: 100%|████████████████████████████████████████████████████████████████████████████████████| 23/23 [00:05<00:00,  4.17cell/s]\n",
      "Passed unknown parameter: ticker\n",
      "Passed unknown parameter: months\n",
      "Input notebook does not contain a cell with tag 'parameters'\n"
     ]
    },
    {
     "name": "stdout",
     "output_type": "stream",
     "text": [
      "---- RTX: Done! ----\n",
      "---- MCD: Started... ----\n"
     ]
    },
    {
     "name": "stderr",
     "output_type": "stream",
     "text": [
      "Executing:   0%|                                                                                             | 0/23 [00:00<?, ?cell/s]0.00s - Debugger warning: It seems that frozen modules are being used, which may\n",
      "0.00s - make the debugger miss breakpoints. Please pass -Xfrozen_modules=off\n",
      "0.00s - to python to disable frozen modules.\n",
      "0.00s - Note: Debugging will proceed. Set PYDEVD_DISABLE_FILE_VALIDATION=1 to disable this validation.\n",
      "Executing: 100%|████████████████████████████████████████████████████████████████████████████████████| 23/23 [00:05<00:00,  4.07cell/s]\n",
      "Passed unknown parameter: ticker\n",
      "Passed unknown parameter: months\n",
      "Input notebook does not contain a cell with tag 'parameters'\n"
     ]
    },
    {
     "name": "stdout",
     "output_type": "stream",
     "text": [
      "---- MCD: Done! ----\n",
      "---- WFC: Started... ----\n"
     ]
    },
    {
     "name": "stderr",
     "output_type": "stream",
     "text": [
      "Executing:   0%|                                                                                             | 0/23 [00:00<?, ?cell/s]0.00s - Debugger warning: It seems that frozen modules are being used, which may\n",
      "0.00s - make the debugger miss breakpoints. Please pass -Xfrozen_modules=off\n",
      "0.00s - to python to disable frozen modules.\n",
      "0.00s - Note: Debugging will proceed. Set PYDEVD_DISABLE_FILE_VALIDATION=1 to disable this validation.\n",
      "Executing: 100%|████████████████████████████████████████████████████████████████████████████████████| 23/23 [00:05<00:00,  4.16cell/s]\n",
      "Passed unknown parameter: ticker\n",
      "Passed unknown parameter: months\n",
      "Input notebook does not contain a cell with tag 'parameters'\n"
     ]
    },
    {
     "name": "stdout",
     "output_type": "stream",
     "text": [
      "---- WFC: Done! ----\n",
      "---- LLY: Started... ----\n"
     ]
    },
    {
     "name": "stderr",
     "output_type": "stream",
     "text": [
      "Executing:   0%|                                                                                             | 0/23 [00:00<?, ?cell/s]0.00s - Debugger warning: It seems that frozen modules are being used, which may\n",
      "0.00s - make the debugger miss breakpoints. Please pass -Xfrozen_modules=off\n",
      "0.00s - to python to disable frozen modules.\n",
      "0.00s - Note: Debugging will proceed. Set PYDEVD_DISABLE_FILE_VALIDATION=1 to disable this validation.\n",
      "Executing: 100%|████████████████████████████████████████████████████████████████████████████████████| 23/23 [00:05<00:00,  3.93cell/s]\n",
      "Passed unknown parameter: ticker\n",
      "Passed unknown parameter: months\n",
      "Input notebook does not contain a cell with tag 'parameters'\n"
     ]
    },
    {
     "name": "stdout",
     "output_type": "stream",
     "text": [
      "---- LLY: Done! ----\n",
      "---- AXP: Started... ----\n"
     ]
    },
    {
     "name": "stderr",
     "output_type": "stream",
     "text": [
      "Executing:   0%|                                                                                             | 0/23 [00:00<?, ?cell/s]0.00s - Debugger warning: It seems that frozen modules are being used, which may\n",
      "0.00s - make the debugger miss breakpoints. Please pass -Xfrozen_modules=off\n",
      "0.00s - to python to disable frozen modules.\n",
      "0.00s - Note: Debugging will proceed. Set PYDEVD_DISABLE_FILE_VALIDATION=1 to disable this validation.\n",
      "Executing: 100%|████████████████████████████████████████████████████████████████████████████████████| 23/23 [00:05<00:00,  4.15cell/s]\n",
      "Passed unknown parameter: ticker\n",
      "Passed unknown parameter: months\n",
      "Input notebook does not contain a cell with tag 'parameters'\n"
     ]
    },
    {
     "name": "stdout",
     "output_type": "stream",
     "text": [
      "---- AXP: Done! ----\n",
      "---- TXN: Started... ----\n"
     ]
    },
    {
     "name": "stderr",
     "output_type": "stream",
     "text": [
      "Executing:   0%|                                                                                             | 0/23 [00:00<?, ?cell/s]0.00s - Debugger warning: It seems that frozen modules are being used, which may\n",
      "0.00s - make the debugger miss breakpoints. Please pass -Xfrozen_modules=off\n",
      "0.00s - to python to disable frozen modules.\n",
      "0.00s - Note: Debugging will proceed. Set PYDEVD_DISABLE_FILE_VALIDATION=1 to disable this validation.\n",
      "Executing: 100%|████████████████████████████████████████████████████████████████████████████████████| 23/23 [00:05<00:00,  4.06cell/s]\n",
      "Passed unknown parameter: ticker\n",
      "Passed unknown parameter: months\n",
      "Input notebook does not contain a cell with tag 'parameters'\n"
     ]
    },
    {
     "name": "stdout",
     "output_type": "stream",
     "text": [
      "---- TXN: Done! ----\n",
      "---- PFE: Started... ----\n"
     ]
    },
    {
     "name": "stderr",
     "output_type": "stream",
     "text": [
      "Executing:   0%|                                                                                             | 0/23 [00:00<?, ?cell/s]0.00s - Debugger warning: It seems that frozen modules are being used, which may\n",
      "0.00s - make the debugger miss breakpoints. Please pass -Xfrozen_modules=off\n",
      "0.00s - to python to disable frozen modules.\n",
      "0.00s - Note: Debugging will proceed. Set PYDEVD_DISABLE_FILE_VALIDATION=1 to disable this validation.\n",
      "Executing: 100%|████████████████████████████████████████████████████████████████████████████████████| 23/23 [00:05<00:00,  4.12cell/s]\n",
      "Passed unknown parameter: ticker\n",
      "Passed unknown parameter: months\n",
      "Input notebook does not contain a cell with tag 'parameters'\n"
     ]
    },
    {
     "name": "stdout",
     "output_type": "stream",
     "text": [
      "---- PFE: Done! ----\n",
      "---- DE: Started... ----\n"
     ]
    },
    {
     "name": "stderr",
     "output_type": "stream",
     "text": [
      "Executing:   0%|                                                                                             | 0/23 [00:00<?, ?cell/s]0.00s - Debugger warning: It seems that frozen modules are being used, which may\n",
      "0.00s - make the debugger miss breakpoints. Please pass -Xfrozen_modules=off\n",
      "0.00s - to python to disable frozen modules.\n",
      "0.00s - Note: Debugging will proceed. Set PYDEVD_DISABLE_FILE_VALIDATION=1 to disable this validation.\n",
      "Executing: 100%|████████████████████████████████████████████████████████████████████████████████████| 23/23 [00:05<00:00,  4.06cell/s]\n",
      "Passed unknown parameter: ticker\n",
      "Passed unknown parameter: months\n",
      "Input notebook does not contain a cell with tag 'parameters'\n"
     ]
    },
    {
     "name": "stdout",
     "output_type": "stream",
     "text": [
      "---- DE: Done! ----\n",
      "---- BMY: Started... ----\n"
     ]
    },
    {
     "name": "stderr",
     "output_type": "stream",
     "text": [
      "Executing:   0%|                                                                                             | 0/23 [00:00<?, ?cell/s]0.00s - Debugger warning: It seems that frozen modules are being used, which may\n",
      "0.00s - make the debugger miss breakpoints. Please pass -Xfrozen_modules=off\n",
      "0.00s - to python to disable frozen modules.\n",
      "0.00s - Note: Debugging will proceed. Set PYDEVD_DISABLE_FILE_VALIDATION=1 to disable this validation.\n",
      "Executing: 100%|████████████████████████████████████████████████████████████████████████████████████| 23/23 [00:05<00:00,  4.12cell/s]\n",
      "Passed unknown parameter: ticker\n",
      "Passed unknown parameter: months\n",
      "Input notebook does not contain a cell with tag 'parameters'\n"
     ]
    },
    {
     "name": "stdout",
     "output_type": "stream",
     "text": [
      "---- BMY: Done! ----\n",
      "---- PEP: Started... ----\n"
     ]
    },
    {
     "name": "stderr",
     "output_type": "stream",
     "text": [
      "Executing:   0%|                                                                                             | 0/23 [00:00<?, ?cell/s]0.00s - Debugger warning: It seems that frozen modules are being used, which may\n",
      "0.00s - make the debugger miss breakpoints. Please pass -Xfrozen_modules=off\n",
      "0.00s - to python to disable frozen modules.\n",
      "0.00s - Note: Debugging will proceed. Set PYDEVD_DISABLE_FILE_VALIDATION=1 to disable this validation.\n",
      "Executing: 100%|████████████████████████████████████████████████████████████████████████████████████| 23/23 [00:05<00:00,  4.07cell/s]\n",
      "Passed unknown parameter: ticker\n",
      "Passed unknown parameter: months\n",
      "Input notebook does not contain a cell with tag 'parameters'\n"
     ]
    },
    {
     "name": "stdout",
     "output_type": "stream",
     "text": [
      "---- PEP: Done! ----\n",
      "---- WMT: Started... ----\n"
     ]
    },
    {
     "name": "stderr",
     "output_type": "stream",
     "text": [
      "Executing:   0%|                                                                                             | 0/23 [00:00<?, ?cell/s]0.00s - Debugger warning: It seems that frozen modules are being used, which may\n",
      "0.00s - make the debugger miss breakpoints. Please pass -Xfrozen_modules=off\n",
      "0.00s - to python to disable frozen modules.\n",
      "0.00s - Note: Debugging will proceed. Set PYDEVD_DISABLE_FILE_VALIDATION=1 to disable this validation.\n",
      "Executing: 100%|████████████████████████████████████████████████████████████████████████████████████| 23/23 [00:05<00:00,  3.97cell/s]\n",
      "Passed unknown parameter: ticker\n",
      "Passed unknown parameter: months\n",
      "Input notebook does not contain a cell with tag 'parameters'\n"
     ]
    },
    {
     "name": "stdout",
     "output_type": "stream",
     "text": [
      "---- WMT: Done! ----\n",
      "---- SPGI: Started... ----\n"
     ]
    },
    {
     "name": "stderr",
     "output_type": "stream",
     "text": [
      "Executing:   0%|                                                                                             | 0/23 [00:00<?, ?cell/s]0.00s - Debugger warning: It seems that frozen modules are being used, which may\n",
      "0.00s - make the debugger miss breakpoints. Please pass -Xfrozen_modules=off\n",
      "0.00s - to python to disable frozen modules.\n",
      "0.00s - Note: Debugging will proceed. Set PYDEVD_DISABLE_FILE_VALIDATION=1 to disable this validation.\n",
      "Executing: 100%|████████████████████████████████████████████████████████████████████████████████████| 23/23 [00:05<00:00,  4.05cell/s]\n",
      "Passed unknown parameter: ticker\n",
      "Passed unknown parameter: months\n",
      "Input notebook does not contain a cell with tag 'parameters'\n"
     ]
    },
    {
     "name": "stdout",
     "output_type": "stream",
     "text": [
      "---- SPGI: Done! ----\n",
      "---- BAC: Started... ----\n"
     ]
    },
    {
     "name": "stderr",
     "output_type": "stream",
     "text": [
      "Executing:   0%|                                                                                             | 0/23 [00:00<?, ?cell/s]0.00s - Debugger warning: It seems that frozen modules are being used, which may\n",
      "0.00s - make the debugger miss breakpoints. Please pass -Xfrozen_modules=off\n",
      "0.00s - to python to disable frozen modules.\n",
      "0.00s - Note: Debugging will proceed. Set PYDEVD_DISABLE_FILE_VALIDATION=1 to disable this validation.\n",
      "Executing: 100%|████████████████████████████████████████████████████████████████████████████████████| 23/23 [00:05<00:00,  4.06cell/s]\n",
      "Passed unknown parameter: ticker\n",
      "Passed unknown parameter: months\n",
      "Input notebook does not contain a cell with tag 'parameters'\n"
     ]
    },
    {
     "name": "stdout",
     "output_type": "stream",
     "text": [
      "---- BAC: Done! ----\n",
      "---- MMC: Started... ----\n"
     ]
    },
    {
     "name": "stderr",
     "output_type": "stream",
     "text": [
      "Executing:   0%|                                                                                             | 0/23 [00:00<?, ?cell/s]0.00s - Debugger warning: It seems that frozen modules are being used, which may\n",
      "0.00s - make the debugger miss breakpoints. Please pass -Xfrozen_modules=off\n",
      "0.00s - to python to disable frozen modules.\n",
      "0.00s - Note: Debugging will proceed. Set PYDEVD_DISABLE_FILE_VALIDATION=1 to disable this validation.\n",
      "Executing: 100%|████████████████████████████████████████████████████████████████████████████████████| 23/23 [00:05<00:00,  4.00cell/s]\n",
      "Passed unknown parameter: ticker\n",
      "Passed unknown parameter: months\n",
      "Input notebook does not contain a cell with tag 'parameters'\n"
     ]
    },
    {
     "name": "stdout",
     "output_type": "stream",
     "text": [
      "---- MMC: Done! ----\n",
      "---- NEE: Started... ----\n"
     ]
    },
    {
     "name": "stderr",
     "output_type": "stream",
     "text": [
      "Executing:   0%|                                                                                             | 0/23 [00:00<?, ?cell/s]0.00s - Debugger warning: It seems that frozen modules are being used, which may\n",
      "0.00s - make the debugger miss breakpoints. Please pass -Xfrozen_modules=off\n",
      "0.00s - to python to disable frozen modules.\n",
      "0.00s - Note: Debugging will proceed. Set PYDEVD_DISABLE_FILE_VALIDATION=1 to disable this validation.\n",
      "Executing: 100%|████████████████████████████████████████████████████████████████████████████████████| 23/23 [00:05<00:00,  4.03cell/s]\n",
      "Passed unknown parameter: ticker\n",
      "Passed unknown parameter: months\n",
      "Input notebook does not contain a cell with tag 'parameters'\n"
     ]
    },
    {
     "name": "stdout",
     "output_type": "stream",
     "text": [
      "---- NEE: Done! ----\n",
      "---- CVS: Started... ----\n"
     ]
    },
    {
     "name": "stderr",
     "output_type": "stream",
     "text": [
      "Executing:   0%|                                                                                             | 0/23 [00:00<?, ?cell/s]0.00s - Debugger warning: It seems that frozen modules are being used, which may\n",
      "0.00s - make the debugger miss breakpoints. Please pass -Xfrozen_modules=off\n",
      "0.00s - to python to disable frozen modules.\n",
      "0.00s - Note: Debugging will proceed. Set PYDEVD_DISABLE_FILE_VALIDATION=1 to disable this validation.\n",
      "Executing: 100%|████████████████████████████████████████████████████████████████████████████████████| 23/23 [00:05<00:00,  4.31cell/s]\n",
      "Passed unknown parameter: ticker\n",
      "Passed unknown parameter: months\n",
      "Input notebook does not contain a cell with tag 'parameters'\n"
     ]
    },
    {
     "name": "stdout",
     "output_type": "stream",
     "text": [
      "---- CVS: Done! ----\n",
      "---- LMT: Started... ----\n"
     ]
    },
    {
     "name": "stderr",
     "output_type": "stream",
     "text": [
      "Executing:   0%|                                                                                             | 0/23 [00:00<?, ?cell/s]0.00s - Debugger warning: It seems that frozen modules are being used, which may\n",
      "0.00s - make the debugger miss breakpoints. Please pass -Xfrozen_modules=off\n",
      "0.00s - to python to disable frozen modules.\n",
      "0.00s - Note: Debugging will proceed. Set PYDEVD_DISABLE_FILE_VALIDATION=1 to disable this validation.\n",
      "Executing: 100%|████████████████████████████████████████████████████████████████████████████████████| 23/23 [00:05<00:00,  4.06cell/s]\n",
      "Passed unknown parameter: ticker\n",
      "Passed unknown parameter: months\n",
      "Input notebook does not contain a cell with tag 'parameters'\n"
     ]
    },
    {
     "name": "stdout",
     "output_type": "stream",
     "text": [
      "---- LMT: Done! ----\n",
      "---- C: Started... ----\n"
     ]
    },
    {
     "name": "stderr",
     "output_type": "stream",
     "text": [
      "Executing:   0%|                                                                                             | 0/23 [00:00<?, ?cell/s]0.00s - Debugger warning: It seems that frozen modules are being used, which may\n",
      "0.00s - make the debugger miss breakpoints. Please pass -Xfrozen_modules=off\n",
      "0.00s - to python to disable frozen modules.\n",
      "0.00s - Note: Debugging will proceed. Set PYDEVD_DISABLE_FILE_VALIDATION=1 to disable this validation.\n",
      "Executing: 100%|████████████████████████████████████████████████████████████████████████████████████| 23/23 [00:05<00:00,  4.01cell/s]\n",
      "Passed unknown parameter: ticker\n",
      "Passed unknown parameter: months\n",
      "Input notebook does not contain a cell with tag 'parameters'\n"
     ]
    },
    {
     "name": "stdout",
     "output_type": "stream",
     "text": [
      "---- C: Done! ----\n",
      "---- DHR: Started... ----\n"
     ]
    },
    {
     "name": "stderr",
     "output_type": "stream",
     "text": [
      "Executing:   0%|                                                                                             | 0/23 [00:00<?, ?cell/s]0.00s - Debugger warning: It seems that frozen modules are being used, which may\n",
      "0.00s - make the debugger miss breakpoints. Please pass -Xfrozen_modules=off\n",
      "0.00s - to python to disable frozen modules.\n",
      "0.00s - Note: Debugging will proceed. Set PYDEVD_DISABLE_FILE_VALIDATION=1 to disable this validation.\n",
      "Executing: 100%|████████████████████████████████████████████████████████████████████████████████████| 23/23 [00:05<00:00,  4.10cell/s]\n",
      "Passed unknown parameter: ticker\n",
      "Passed unknown parameter: months\n",
      "Input notebook does not contain a cell with tag 'parameters'\n"
     ]
    },
    {
     "name": "stdout",
     "output_type": "stream",
     "text": [
      "---- DHR: Done! ----\n",
      "---- UNP: Started... ----\n"
     ]
    },
    {
     "name": "stderr",
     "output_type": "stream",
     "text": [
      "Executing:   0%|                                                                                             | 0/23 [00:00<?, ?cell/s]0.00s - Debugger warning: It seems that frozen modules are being used, which may\n",
      "0.00s - make the debugger miss breakpoints. Please pass -Xfrozen_modules=off\n",
      "0.00s - to python to disable frozen modules.\n",
      "0.00s - Note: Debugging will proceed. Set PYDEVD_DISABLE_FILE_VALIDATION=1 to disable this validation.\n",
      "Executing: 100%|████████████████████████████████████████████████████████████████████████████████████| 23/23 [00:05<00:00,  4.00cell/s]\n",
      "Passed unknown parameter: ticker\n",
      "Passed unknown parameter: months\n",
      "Input notebook does not contain a cell with tag 'parameters'\n"
     ]
    },
    {
     "name": "stdout",
     "output_type": "stream",
     "text": [
      "---- UNP: Done! ----\n",
      "---- ADP: Started... ----\n"
     ]
    },
    {
     "name": "stderr",
     "output_type": "stream",
     "text": [
      "Executing:   0%|                                                                                             | 0/23 [00:00<?, ?cell/s]0.00s - Debugger warning: It seems that frozen modules are being used, which may\n",
      "0.00s - make the debugger miss breakpoints. Please pass -Xfrozen_modules=off\n",
      "0.00s - to python to disable frozen modules.\n",
      "0.00s - Note: Debugging will proceed. Set PYDEVD_DISABLE_FILE_VALIDATION=1 to disable this validation.\n",
      "Executing: 100%|████████████████████████████████████████████████████████████████████████████████████| 23/23 [00:05<00:00,  4.06cell/s]\n",
      "Passed unknown parameter: ticker\n",
      "Passed unknown parameter: months\n",
      "Input notebook does not contain a cell with tag 'parameters'\n"
     ]
    },
    {
     "name": "stdout",
     "output_type": "stream",
     "text": [
      "---- ADP: Done! ----\n",
      "---- CMCSA: Started... ----\n"
     ]
    },
    {
     "name": "stderr",
     "output_type": "stream",
     "text": [
      "Executing:   0%|                                                                                             | 0/23 [00:00<?, ?cell/s]0.00s - Debugger warning: It seems that frozen modules are being used, which may\n",
      "0.00s - make the debugger miss breakpoints. Please pass -Xfrozen_modules=off\n",
      "0.00s - to python to disable frozen modules.\n",
      "0.00s - Note: Debugging will proceed. Set PYDEVD_DISABLE_FILE_VALIDATION=1 to disable this validation.\n",
      "Executing: 100%|████████████████████████████████████████████████████████████████████████████████████| 23/23 [00:05<00:00,  3.98cell/s]\n",
      "Passed unknown parameter: ticker\n",
      "Passed unknown parameter: months\n",
      "Input notebook does not contain a cell with tag 'parameters'\n"
     ]
    },
    {
     "name": "stdout",
     "output_type": "stream",
     "text": [
      "---- CMCSA: Done! ----\n",
      "---- AMD: Started... ----\n"
     ]
    },
    {
     "name": "stderr",
     "output_type": "stream",
     "text": [
      "Executing:   0%|                                                                                             | 0/23 [00:00<?, ?cell/s]0.00s - Debugger warning: It seems that frozen modules are being used, which may\n",
      "0.00s - make the debugger miss breakpoints. Please pass -Xfrozen_modules=off\n",
      "0.00s - to python to disable frozen modules.\n",
      "0.00s - Note: Debugging will proceed. Set PYDEVD_DISABLE_FILE_VALIDATION=1 to disable this validation.\n",
      "Executing: 100%|████████████████████████████████████████████████████████████████████████████████████| 23/23 [00:05<00:00,  3.99cell/s]\n",
      "Passed unknown parameter: ticker\n",
      "Passed unknown parameter: months\n",
      "Input notebook does not contain a cell with tag 'parameters'\n"
     ]
    },
    {
     "name": "stdout",
     "output_type": "stream",
     "text": [
      "---- AMD: Done! ----\n",
      "---- ADI: Started... ----\n"
     ]
    },
    {
     "name": "stderr",
     "output_type": "stream",
     "text": [
      "Executing:   0%|                                                                                             | 0/23 [00:00<?, ?cell/s]0.00s - Debugger warning: It seems that frozen modules are being used, which may\n",
      "0.00s - make the debugger miss breakpoints. Please pass -Xfrozen_modules=off\n",
      "0.00s - to python to disable frozen modules.\n",
      "0.00s - Note: Debugging will proceed. Set PYDEVD_DISABLE_FILE_VALIDATION=1 to disable this validation.\n",
      "Executing: 100%|████████████████████████████████████████████████████████████████████████████████████| 23/23 [00:05<00:00,  4.15cell/s]\n",
      "Passed unknown parameter: ticker\n",
      "Passed unknown parameter: months\n",
      "Input notebook does not contain a cell with tag 'parameters'\n"
     ]
    },
    {
     "name": "stdout",
     "output_type": "stream",
     "text": [
      "---- ADI: Done! ----\n",
      "---- JPM: Started... ----\n"
     ]
    },
    {
     "name": "stderr",
     "output_type": "stream",
     "text": [
      "Executing:   0%|                                                                                             | 0/23 [00:00<?, ?cell/s]0.00s - Debugger warning: It seems that frozen modules are being used, which may\n",
      "0.00s - make the debugger miss breakpoints. Please pass -Xfrozen_modules=off\n",
      "0.00s - to python to disable frozen modules.\n",
      "0.00s - Note: Debugging will proceed. Set PYDEVD_DISABLE_FILE_VALIDATION=1 to disable this validation.\n",
      "Executing: 100%|████████████████████████████████████████████████████████████████████████████████████| 23/23 [00:05<00:00,  4.06cell/s]\n",
      "Passed unknown parameter: ticker\n",
      "Passed unknown parameter: months\n",
      "Input notebook does not contain a cell with tag 'parameters'\n"
     ]
    },
    {
     "name": "stdout",
     "output_type": "stream",
     "text": [
      "---- JPM: Done! ----\n",
      "---- LOW: Started... ----\n"
     ]
    },
    {
     "name": "stderr",
     "output_type": "stream",
     "text": [
      "Executing:   0%|                                                                                             | 0/23 [00:00<?, ?cell/s]0.00s - Debugger warning: It seems that frozen modules are being used, which may\n",
      "0.00s - make the debugger miss breakpoints. Please pass -Xfrozen_modules=off\n",
      "0.00s - to python to disable frozen modules.\n",
      "0.00s - Note: Debugging will proceed. Set PYDEVD_DISABLE_FILE_VALIDATION=1 to disable this validation.\n",
      "Executing: 100%|████████████████████████████████████████████████████████████████████████████████████| 23/23 [00:05<00:00,  4.09cell/s]\n",
      "Passed unknown parameter: ticker\n",
      "Passed unknown parameter: months\n",
      "Input notebook does not contain a cell with tag 'parameters'\n"
     ]
    },
    {
     "name": "stdout",
     "output_type": "stream",
     "text": [
      "---- LOW: Done! ----\n",
      "---- PGR: Started... ----\n"
     ]
    },
    {
     "name": "stderr",
     "output_type": "stream",
     "text": [
      "Executing:   0%|                                                                                             | 0/23 [00:00<?, ?cell/s]0.00s - Debugger warning: It seems that frozen modules are being used, which may\n",
      "0.00s - make the debugger miss breakpoints. Please pass -Xfrozen_modules=off\n",
      "0.00s - to python to disable frozen modules.\n",
      "0.00s - Note: Debugging will proceed. Set PYDEVD_DISABLE_FILE_VALIDATION=1 to disable this validation.\n",
      "Executing: 100%|████████████████████████████████████████████████████████████████████████████████████| 23/23 [00:05<00:00,  4.04cell/s]\n",
      "Passed unknown parameter: ticker\n",
      "Passed unknown parameter: months\n",
      "Input notebook does not contain a cell with tag 'parameters'\n"
     ]
    },
    {
     "name": "stdout",
     "output_type": "stream",
     "text": [
      "---- PGR: Done! ----\n",
      "---- AMAT: Started... ----\n"
     ]
    },
    {
     "name": "stderr",
     "output_type": "stream",
     "text": [
      "Executing:   0%|                                                                                             | 0/23 [00:00<?, ?cell/s]0.00s - Debugger warning: It seems that frozen modules are being used, which may\n",
      "0.00s - make the debugger miss breakpoints. Please pass -Xfrozen_modules=off\n",
      "0.00s - to python to disable frozen modules.\n",
      "0.00s - Note: Debugging will proceed. Set PYDEVD_DISABLE_FILE_VALIDATION=1 to disable this validation.\n",
      "Executing: 100%|████████████████████████████████████████████████████████████████████████████████████| 23/23 [00:05<00:00,  4.08cell/s]\n",
      "Passed unknown parameter: ticker\n",
      "Passed unknown parameter: months\n",
      "Input notebook does not contain a cell with tag 'parameters'\n"
     ]
    },
    {
     "name": "stdout",
     "output_type": "stream",
     "text": [
      "---- AMAT: Done! ----\n",
      "---- SYK: Started... ----\n"
     ]
    },
    {
     "name": "stderr",
     "output_type": "stream",
     "text": [
      "Executing:   0%|                                                                                             | 0/23 [00:00<?, ?cell/s]0.00s - Debugger warning: It seems that frozen modules are being used, which may\n",
      "0.00s - make the debugger miss breakpoints. Please pass -Xfrozen_modules=off\n",
      "0.00s - to python to disable frozen modules.\n",
      "0.00s - Note: Debugging will proceed. Set PYDEVD_DISABLE_FILE_VALIDATION=1 to disable this validation.\n",
      "Executing: 100%|████████████████████████████████████████████████████████████████████████████████████| 23/23 [00:05<00:00,  4.26cell/s]\n",
      "Passed unknown parameter: ticker\n",
      "Passed unknown parameter: months\n",
      "Input notebook does not contain a cell with tag 'parameters'\n"
     ]
    },
    {
     "name": "stdout",
     "output_type": "stream",
     "text": [
      "---- SYK: Done! ----\n",
      "---- INTC: Started... ----\n"
     ]
    },
    {
     "name": "stderr",
     "output_type": "stream",
     "text": [
      "Executing:   0%|                                                                                             | 0/23 [00:00<?, ?cell/s]0.00s - Debugger warning: It seems that frozen modules are being used, which may\n",
      "0.00s - make the debugger miss breakpoints. Please pass -Xfrozen_modules=off\n",
      "0.00s - to python to disable frozen modules.\n",
      "0.00s - Note: Debugging will proceed. Set PYDEVD_DISABLE_FILE_VALIDATION=1 to disable this validation.\n",
      "Executing: 100%|████████████████████████████████████████████████████████████████████████████████████| 23/23 [00:05<00:00,  3.97cell/s]\n",
      "Passed unknown parameter: ticker\n",
      "Passed unknown parameter: months\n",
      "Input notebook does not contain a cell with tag 'parameters'\n"
     ]
    },
    {
     "name": "stdout",
     "output_type": "stream",
     "text": [
      "---- INTC: Done! ----\n",
      "---- TMO: Started... ----\n"
     ]
    },
    {
     "name": "stderr",
     "output_type": "stream",
     "text": [
      "Executing:   0%|                                                                                             | 0/23 [00:00<?, ?cell/s]0.00s - Debugger warning: It seems that frozen modules are being used, which may\n",
      "0.00s - make the debugger miss breakpoints. Please pass -Xfrozen_modules=off\n",
      "0.00s - to python to disable frozen modules.\n",
      "0.00s - Note: Debugging will proceed. Set PYDEVD_DISABLE_FILE_VALIDATION=1 to disable this validation.\n",
      "Executing: 100%|████████████████████████████████████████████████████████████████████████████████████| 23/23 [00:05<00:00,  4.15cell/s]\n",
      "Passed unknown parameter: ticker\n",
      "Passed unknown parameter: months\n",
      "Input notebook does not contain a cell with tag 'parameters'\n"
     ]
    },
    {
     "name": "stdout",
     "output_type": "stream",
     "text": [
      "---- TMO: Done! ----\n",
      "---- ABT: Started... ----\n"
     ]
    },
    {
     "name": "stderr",
     "output_type": "stream",
     "text": [
      "Executing:   0%|                                                                                             | 0/23 [00:00<?, ?cell/s]0.00s - Debugger warning: It seems that frozen modules are being used, which may\n",
      "0.00s - make the debugger miss breakpoints. Please pass -Xfrozen_modules=off\n",
      "0.00s - to python to disable frozen modules.\n",
      "0.00s - Note: Debugging will proceed. Set PYDEVD_DISABLE_FILE_VALIDATION=1 to disable this validation.\n",
      "Executing: 100%|████████████████████████████████████████████████████████████████████████████████████| 23/23 [00:05<00:00,  4.06cell/s]\n",
      "Passed unknown parameter: ticker\n",
      "Passed unknown parameter: months\n",
      "Input notebook does not contain a cell with tag 'parameters'\n"
     ]
    },
    {
     "name": "stdout",
     "output_type": "stream",
     "text": [
      "---- ABT: Done! ----\n",
      "---- NKE: Started... ----\n"
     ]
    },
    {
     "name": "stderr",
     "output_type": "stream",
     "text": [
      "Executing:   0%|                                                                                             | 0/23 [00:00<?, ?cell/s]0.00s - Debugger warning: It seems that frozen modules are being used, which may\n",
      "0.00s - make the debugger miss breakpoints. Please pass -Xfrozen_modules=off\n",
      "0.00s - to python to disable frozen modules.\n",
      "0.00s - Note: Debugging will proceed. Set PYDEVD_DISABLE_FILE_VALIDATION=1 to disable this validation.\n",
      "Executing: 100%|████████████████████████████████████████████████████████████████████████████████████| 23/23 [00:05<00:00,  4.01cell/s]\n",
      "Passed unknown parameter: ticker\n",
      "Passed unknown parameter: months\n",
      "Input notebook does not contain a cell with tag 'parameters'\n"
     ]
    },
    {
     "name": "stdout",
     "output_type": "stream",
     "text": [
      "---- NKE: Done! ----\n",
      "---- AAPL: Started... ----\n"
     ]
    },
    {
     "name": "stderr",
     "output_type": "stream",
     "text": [
      "Executing:   0%|                                                                                             | 0/23 [00:00<?, ?cell/s]0.00s - Debugger warning: It seems that frozen modules are being used, which may\n",
      "0.00s - make the debugger miss breakpoints. Please pass -Xfrozen_modules=off\n",
      "0.00s - to python to disable frozen modules.\n",
      "0.00s - Note: Debugging will proceed. Set PYDEVD_DISABLE_FILE_VALIDATION=1 to disable this validation.\n",
      "Executing: 100%|████████████████████████████████████████████████████████████████████████████████████| 23/23 [00:05<00:00,  3.95cell/s]\n",
      "Passed unknown parameter: ticker\n",
      "Passed unknown parameter: months\n",
      "Input notebook does not contain a cell with tag 'parameters'\n"
     ]
    },
    {
     "name": "stdout",
     "output_type": "stream",
     "text": [
      "---- AAPL: Done! ----\n",
      "---- HD: Started... ----\n"
     ]
    },
    {
     "name": "stderr",
     "output_type": "stream",
     "text": [
      "Executing:   0%|                                                                                             | 0/23 [00:00<?, ?cell/s]0.00s - Debugger warning: It seems that frozen modules are being used, which may\n",
      "0.00s - make the debugger miss breakpoints. Please pass -Xfrozen_modules=off\n",
      "0.00s - to python to disable frozen modules.\n",
      "0.00s - Note: Debugging will proceed. Set PYDEVD_DISABLE_FILE_VALIDATION=1 to disable this validation.\n",
      "Executing: 100%|████████████████████████████████████████████████████████████████████████████████████| 23/23 [00:05<00:00,  3.96cell/s]\n",
      "Passed unknown parameter: ticker\n",
      "Passed unknown parameter: months\n",
      "Input notebook does not contain a cell with tag 'parameters'\n"
     ]
    },
    {
     "name": "stdout",
     "output_type": "stream",
     "text": [
      "---- HD: Done! ----\n",
      "---- COP: Started... ----\n"
     ]
    },
    {
     "name": "stderr",
     "output_type": "stream",
     "text": [
      "Executing:   0%|                                                                                             | 0/23 [00:00<?, ?cell/s]0.00s - Debugger warning: It seems that frozen modules are being used, which may\n",
      "0.00s - make the debugger miss breakpoints. Please pass -Xfrozen_modules=off\n",
      "0.00s - to python to disable frozen modules.\n",
      "0.00s - Note: Debugging will proceed. Set PYDEVD_DISABLE_FILE_VALIDATION=1 to disable this validation.\n",
      "Executing: 100%|████████████████████████████████████████████████████████████████████████████████████| 23/23 [00:05<00:00,  4.02cell/s]\n",
      "Passed unknown parameter: ticker\n",
      "Passed unknown parameter: months\n",
      "Input notebook does not contain a cell with tag 'parameters'\n"
     ]
    },
    {
     "name": "stdout",
     "output_type": "stream",
     "text": [
      "---- COP: Done! ----\n",
      "---- AMGN: Started... ----\n"
     ]
    },
    {
     "name": "stderr",
     "output_type": "stream",
     "text": [
      "Executing:   0%|                                                                                             | 0/23 [00:00<?, ?cell/s]0.00s - Debugger warning: It seems that frozen modules are being used, which may\n",
      "0.00s - make the debugger miss breakpoints. Please pass -Xfrozen_modules=off\n",
      "0.00s - to python to disable frozen modules.\n",
      "0.00s - Note: Debugging will proceed. Set PYDEVD_DISABLE_FILE_VALIDATION=1 to disable this validation.\n",
      "Executing: 100%|████████████████████████████████████████████████████████████████████████████████████| 23/23 [00:05<00:00,  4.14cell/s]\n",
      "Passed unknown parameter: ticker\n",
      "Passed unknown parameter: months\n",
      "Input notebook does not contain a cell with tag 'parameters'\n"
     ]
    },
    {
     "name": "stdout",
     "output_type": "stream",
     "text": [
      "---- AMGN: Done! ----\n",
      "---- VZ: Started... ----\n"
     ]
    },
    {
     "name": "stderr",
     "output_type": "stream",
     "text": [
      "Executing:   0%|                                                                                             | 0/23 [00:00<?, ?cell/s]0.00s - Debugger warning: It seems that frozen modules are being used, which may\n",
      "0.00s - make the debugger miss breakpoints. Please pass -Xfrozen_modules=off\n",
      "0.00s - to python to disable frozen modules.\n",
      "0.00s - Note: Debugging will proceed. Set PYDEVD_DISABLE_FILE_VALIDATION=1 to disable this validation.\n",
      "Executing: 100%|████████████████████████████████████████████████████████████████████████████████████| 23/23 [00:05<00:00,  4.12cell/s]\n",
      "Passed unknown parameter: ticker\n",
      "Passed unknown parameter: months\n",
      "Input notebook does not contain a cell with tag 'parameters'\n"
     ]
    },
    {
     "name": "stdout",
     "output_type": "stream",
     "text": [
      "---- VZ: Done! ----\n",
      "---- T: Started... ----\n"
     ]
    },
    {
     "name": "stderr",
     "output_type": "stream",
     "text": [
      "Executing:   0%|                                                                                             | 0/23 [00:00<?, ?cell/s]0.00s - Debugger warning: It seems that frozen modules are being used, which may\n",
      "0.00s - make the debugger miss breakpoints. Please pass -Xfrozen_modules=off\n",
      "0.00s - to python to disable frozen modules.\n",
      "0.00s - Note: Debugging will proceed. Set PYDEVD_DISABLE_FILE_VALIDATION=1 to disable this validation.\n",
      "Executing: 100%|████████████████████████████████████████████████████████████████████████████████████| 23/23 [00:05<00:00,  4.01cell/s]\n",
      "Passed unknown parameter: ticker\n",
      "Passed unknown parameter: months\n",
      "Input notebook does not contain a cell with tag 'parameters'\n"
     ]
    },
    {
     "name": "stdout",
     "output_type": "stream",
     "text": [
      "---- T: Done! ----\n",
      "---- LRCX: Started... ----\n"
     ]
    },
    {
     "name": "stderr",
     "output_type": "stream",
     "text": [
      "Executing:   0%|                                                                                             | 0/23 [00:00<?, ?cell/s]0.00s - Debugger warning: It seems that frozen modules are being used, which may\n",
      "0.00s - make the debugger miss breakpoints. Please pass -Xfrozen_modules=off\n",
      "0.00s - to python to disable frozen modules.\n",
      "0.00s - Note: Debugging will proceed. Set PYDEVD_DISABLE_FILE_VALIDATION=1 to disable this validation.\n",
      "Executing: 100%|████████████████████████████████████████████████████████████████████████████████████| 23/23 [00:05<00:00,  4.15cell/s]\n",
      "Passed unknown parameter: ticker\n",
      "Passed unknown parameter: months\n",
      "Input notebook does not contain a cell with tag 'parameters'\n"
     ]
    },
    {
     "name": "stdout",
     "output_type": "stream",
     "text": [
      "---- LRCX: Done! ----\n",
      "---- MU: Started... ----\n"
     ]
    },
    {
     "name": "stderr",
     "output_type": "stream",
     "text": [
      "Executing:   0%|                                                                                             | 0/23 [00:00<?, ?cell/s]0.00s - Debugger warning: It seems that frozen modules are being used, which may\n",
      "0.00s - make the debugger miss breakpoints. Please pass -Xfrozen_modules=off\n",
      "0.00s - to python to disable frozen modules.\n",
      "0.00s - Note: Debugging will proceed. Set PYDEVD_DISABLE_FILE_VALIDATION=1 to disable this validation.\n",
      "Executing: 100%|████████████████████████████████████████████████████████████████████████████████████| 23/23 [00:05<00:00,  4.02cell/s]\n",
      "Passed unknown parameter: ticker\n",
      "Passed unknown parameter: months\n",
      "Input notebook does not contain a cell with tag 'parameters'\n"
     ]
    },
    {
     "name": "stdout",
     "output_type": "stream",
     "text": [
      "---- MU: Done! ----\n",
      "---- UNH: Started... ----\n"
     ]
    },
    {
     "name": "stderr",
     "output_type": "stream",
     "text": [
      "Executing:   0%|                                                                                             | 0/23 [00:00<?, ?cell/s]0.00s - Debugger warning: It seems that frozen modules are being used, which may\n",
      "0.00s - make the debugger miss breakpoints. Please pass -Xfrozen_modules=off\n",
      "0.00s - to python to disable frozen modules.\n",
      "0.00s - Note: Debugging will proceed. Set PYDEVD_DISABLE_FILE_VALIDATION=1 to disable this validation.\n",
      "Executing: 100%|████████████████████████████████████████████████████████████████████████████████████| 23/23 [00:05<00:00,  4.22cell/s]\n",
      "Passed unknown parameter: ticker\n",
      "Passed unknown parameter: months\n",
      "Input notebook does not contain a cell with tag 'parameters'\n"
     ]
    },
    {
     "name": "stdout",
     "output_type": "stream",
     "text": [
      "---- UNH: Done! ----\n",
      "---- ORCL: Started... ----\n"
     ]
    },
    {
     "name": "stderr",
     "output_type": "stream",
     "text": [
      "Executing:   0%|                                                                                             | 0/23 [00:00<?, ?cell/s]0.00s - Debugger warning: It seems that frozen modules are being used, which may\n",
      "0.00s - make the debugger miss breakpoints. Please pass -Xfrozen_modules=off\n",
      "0.00s - to python to disable frozen modules.\n",
      "0.00s - Note: Debugging will proceed. Set PYDEVD_DISABLE_FILE_VALIDATION=1 to disable this validation.\n",
      "Executing: 100%|████████████████████████████████████████████████████████████████████████████████████| 23/23 [00:05<00:00,  4.03cell/s]\n",
      "Passed unknown parameter: ticker\n",
      "Passed unknown parameter: months\n",
      "Input notebook does not contain a cell with tag 'parameters'\n"
     ]
    },
    {
     "name": "stdout",
     "output_type": "stream",
     "text": [
      "---- ORCL: Done! ----\n",
      "---- MSFT: Started... ----\n"
     ]
    },
    {
     "name": "stderr",
     "output_type": "stream",
     "text": [
      "Executing:   0%|                                                                                             | 0/23 [00:00<?, ?cell/s]0.00s - Debugger warning: It seems that frozen modules are being used, which may\n",
      "0.00s - make the debugger miss breakpoints. Please pass -Xfrozen_modules=off\n",
      "0.00s - to python to disable frozen modules.\n",
      "0.00s - Note: Debugging will proceed. Set PYDEVD_DISABLE_FILE_VALIDATION=1 to disable this validation.\n",
      "Executing: 100%|████████████████████████████████████████████████████████████████████████████████████| 23/23 [00:05<00:00,  4.06cell/s]\n",
      "Passed unknown parameter: ticker\n",
      "Passed unknown parameter: months\n",
      "Input notebook does not contain a cell with tag 'parameters'\n"
     ]
    },
    {
     "name": "stdout",
     "output_type": "stream",
     "text": [
      "---- MSFT: Done! ----\n",
      "---- COST: Started... ----\n"
     ]
    },
    {
     "name": "stderr",
     "output_type": "stream",
     "text": [
      "Executing:   0%|                                                                                             | 0/23 [00:00<?, ?cell/s]0.00s - Debugger warning: It seems that frozen modules are being used, which may\n",
      "0.00s - make the debugger miss breakpoints. Please pass -Xfrozen_modules=off\n",
      "0.00s - to python to disable frozen modules.\n",
      "0.00s - Note: Debugging will proceed. Set PYDEVD_DISABLE_FILE_VALIDATION=1 to disable this validation.\n",
      "Executing: 100%|████████████████████████████████████████████████████████████████████████████████████| 23/23 [00:05<00:00,  4.15cell/s]\n",
      "Passed unknown parameter: ticker\n",
      "Passed unknown parameter: months\n",
      "Input notebook does not contain a cell with tag 'parameters'\n"
     ]
    },
    {
     "name": "stdout",
     "output_type": "stream",
     "text": [
      "---- COST: Done! ----\n",
      "---- ADBE: Started... ----\n"
     ]
    },
    {
     "name": "stderr",
     "output_type": "stream",
     "text": [
      "Executing:   0%|                                                                                             | 0/23 [00:00<?, ?cell/s]0.00s - Debugger warning: It seems that frozen modules are being used, which may\n",
      "0.00s - make the debugger miss breakpoints. Please pass -Xfrozen_modules=off\n",
      "0.00s - to python to disable frozen modules.\n",
      "0.00s - Note: Debugging will proceed. Set PYDEVD_DISABLE_FILE_VALIDATION=1 to disable this validation.\n",
      "Executing: 100%|████████████████████████████████████████████████████████████████████████████████████| 23/23 [00:05<00:00,  4.10cell/s]\n",
      "Passed unknown parameter: ticker\n",
      "Passed unknown parameter: months\n",
      "Input notebook does not contain a cell with tag 'parameters'\n"
     ]
    },
    {
     "name": "stdout",
     "output_type": "stream",
     "text": [
      "---- ADBE: Done! ----\n",
      "---- TJX: Started... ----\n"
     ]
    },
    {
     "name": "stderr",
     "output_type": "stream",
     "text": [
      "Executing:   0%|                                                                                             | 0/23 [00:00<?, ?cell/s]0.00s - Debugger warning: It seems that frozen modules are being used, which may\n",
      "0.00s - make the debugger miss breakpoints. Please pass -Xfrozen_modules=off\n",
      "0.00s - to python to disable frozen modules.\n",
      "0.00s - Note: Debugging will proceed. Set PYDEVD_DISABLE_FILE_VALIDATION=1 to disable this validation.\n",
      "Executing: 100%|████████████████████████████████████████████████████████████████████████████████████| 23/23 [00:05<00:00,  4.12cell/s]\n",
      "Passed unknown parameter: ticker\n",
      "Passed unknown parameter: months\n",
      "Input notebook does not contain a cell with tag 'parameters'\n"
     ]
    },
    {
     "name": "stdout",
     "output_type": "stream",
     "text": [
      "---- TJX: Done! ----\n",
      "---- SCHW: Started... ----\n"
     ]
    },
    {
     "name": "stderr",
     "output_type": "stream",
     "text": [
      "Executing:   0%|                                                                                             | 0/23 [00:00<?, ?cell/s]0.00s - Debugger warning: It seems that frozen modules are being used, which may\n",
      "0.00s - make the debugger miss breakpoints. Please pass -Xfrozen_modules=off\n",
      "0.00s - to python to disable frozen modules.\n",
      "0.00s - Note: Debugging will proceed. Set PYDEVD_DISABLE_FILE_VALIDATION=1 to disable this validation.\n",
      "Executing: 100%|████████████████████████████████████████████████████████████████████████████████████| 23/23 [00:05<00:00,  4.03cell/s]\n",
      "Passed unknown parameter: ticker\n",
      "Passed unknown parameter: months\n",
      "Input notebook does not contain a cell with tag 'parameters'\n"
     ]
    },
    {
     "name": "stdout",
     "output_type": "stream",
     "text": [
      "---- SCHW: Done! ----\n",
      "---- CSCO: Started... ----\n"
     ]
    },
    {
     "name": "stderr",
     "output_type": "stream",
     "text": [
      "Executing:   0%|                                                                                             | 0/23 [00:00<?, ?cell/s]0.00s - Debugger warning: It seems that frozen modules are being used, which may\n",
      "0.00s - make the debugger miss breakpoints. Please pass -Xfrozen_modules=off\n",
      "0.00s - to python to disable frozen modules.\n",
      "0.00s - Note: Debugging will proceed. Set PYDEVD_DISABLE_FILE_VALIDATION=1 to disable this validation.\n",
      "Executing: 100%|████████████████████████████████████████████████████████████████████████████████████| 23/23 [00:05<00:00,  4.00cell/s]\n",
      "Passed unknown parameter: ticker\n",
      "Passed unknown parameter: months\n",
      "Input notebook does not contain a cell with tag 'parameters'\n"
     ]
    },
    {
     "name": "stdout",
     "output_type": "stream",
     "text": [
      "---- CSCO: Done! ----\n",
      "---- REGN: Started... ----\n"
     ]
    },
    {
     "name": "stderr",
     "output_type": "stream",
     "text": [
      "Executing:   0%|                                                                                             | 0/23 [00:00<?, ?cell/s]0.00s - Debugger warning: It seems that frozen modules are being used, which may\n",
      "0.00s - make the debugger miss breakpoints. Please pass -Xfrozen_modules=off\n",
      "0.00s - to python to disable frozen modules.\n",
      "0.00s - Note: Debugging will proceed. Set PYDEVD_DISABLE_FILE_VALIDATION=1 to disable this validation.\n",
      "Executing: 100%|████████████████████████████████████████████████████████████████████████████████████| 23/23 [00:05<00:00,  4.03cell/s]\n",
      "Passed unknown parameter: ticker\n",
      "Passed unknown parameter: months\n",
      "Input notebook does not contain a cell with tag 'parameters'\n"
     ]
    },
    {
     "name": "stdout",
     "output_type": "stream",
     "text": [
      "---- REGN: Done! ----\n",
      "---- VRTX: Started... ----\n"
     ]
    },
    {
     "name": "stderr",
     "output_type": "stream",
     "text": [
      "Executing:   0%|                                                                                             | 0/23 [00:00<?, ?cell/s]0.00s - Debugger warning: It seems that frozen modules are being used, which may\n",
      "0.00s - make the debugger miss breakpoints. Please pass -Xfrozen_modules=off\n",
      "0.00s - to python to disable frozen modules.\n",
      "0.00s - Note: Debugging will proceed. Set PYDEVD_DISABLE_FILE_VALIDATION=1 to disable this validation.\n",
      "Executing: 100%|████████████████████████████████████████████████████████████████████████████████████| 23/23 [00:05<00:00,  4.19cell/s]\n",
      "Passed unknown parameter: ticker\n",
      "Passed unknown parameter: months\n",
      "Input notebook does not contain a cell with tag 'parameters'\n"
     ]
    },
    {
     "name": "stdout",
     "output_type": "stream",
     "text": [
      "---- VRTX: Done! ----\n",
      "---- QCOM: Started... ----\n"
     ]
    },
    {
     "name": "stderr",
     "output_type": "stream",
     "text": [
      "Executing:   0%|                                                                                             | 0/23 [00:00<?, ?cell/s]0.00s - Debugger warning: It seems that frozen modules are being used, which may\n",
      "0.00s - make the debugger miss breakpoints. Please pass -Xfrozen_modules=off\n",
      "0.00s - to python to disable frozen modules.\n",
      "0.00s - Note: Debugging will proceed. Set PYDEVD_DISABLE_FILE_VALIDATION=1 to disable this validation.\n",
      "Executing: 100%|████████████████████████████████████████████████████████████████████████████████████| 23/23 [00:05<00:00,  4.09cell/s]\n",
      "Passed unknown parameter: ticker\n",
      "Passed unknown parameter: months\n",
      "Input notebook does not contain a cell with tag 'parameters'\n"
     ]
    },
    {
     "name": "stdout",
     "output_type": "stream",
     "text": [
      "---- QCOM: Done! ----\n",
      "---- GILD: Started... ----\n"
     ]
    },
    {
     "name": "stderr",
     "output_type": "stream",
     "text": [
      "Executing:   0%|                                                                                             | 0/23 [00:00<?, ?cell/s]0.00s - Debugger warning: It seems that frozen modules are being used, which may\n",
      "0.00s - make the debugger miss breakpoints. Please pass -Xfrozen_modules=off\n",
      "0.00s - to python to disable frozen modules.\n",
      "0.00s - Note: Debugging will proceed. Set PYDEVD_DISABLE_FILE_VALIDATION=1 to disable this validation.\n",
      "Executing: 100%|████████████████████████████████████████████████████████████████████████████████████| 23/23 [00:05<00:00,  4.00cell/s]\n",
      "Passed unknown parameter: ticker\n",
      "Passed unknown parameter: months\n",
      "Input notebook does not contain a cell with tag 'parameters'\n"
     ]
    },
    {
     "name": "stdout",
     "output_type": "stream",
     "text": [
      "---- GILD: Done! ----\n",
      "---- SNPS: Started... ----\n"
     ]
    },
    {
     "name": "stderr",
     "output_type": "stream",
     "text": [
      "Executing:   0%|                                                                                             | 0/23 [00:00<?, ?cell/s]0.00s - Debugger warning: It seems that frozen modules are being used, which may\n",
      "0.00s - make the debugger miss breakpoints. Please pass -Xfrozen_modules=off\n",
      "0.00s - to python to disable frozen modules.\n",
      "0.00s - Note: Debugging will proceed. Set PYDEVD_DISABLE_FILE_VALIDATION=1 to disable this validation.\n",
      "Executing: 100%|████████████████████████████████████████████████████████████████████████████████████| 23/23 [00:05<00:00,  4.11cell/s]\n",
      "Passed unknown parameter: ticker\n",
      "Passed unknown parameter: months\n",
      "Input notebook does not contain a cell with tag 'parameters'\n"
     ]
    },
    {
     "name": "stdout",
     "output_type": "stream",
     "text": [
      "---- SNPS: Done! ----\n",
      "---- BSX: Started... ----\n"
     ]
    },
    {
     "name": "stderr",
     "output_type": "stream",
     "text": [
      "Executing:   0%|                                                                                             | 0/23 [00:00<?, ?cell/s]0.00s - Debugger warning: It seems that frozen modules are being used, which may\n",
      "0.00s - make the debugger miss breakpoints. Please pass -Xfrozen_modules=off\n",
      "0.00s - to python to disable frozen modules.\n",
      "0.00s - Note: Debugging will proceed. Set PYDEVD_DISABLE_FILE_VALIDATION=1 to disable this validation.\n",
      "Executing: 100%|████████████████████████████████████████████████████████████████████████████████████| 23/23 [00:05<00:00,  3.96cell/s]\n",
      "Passed unknown parameter: ticker\n",
      "Passed unknown parameter: months\n",
      "Input notebook does not contain a cell with tag 'parameters'\n"
     ]
    },
    {
     "name": "stdout",
     "output_type": "stream",
     "text": [
      "---- BSX: Done! ----\n",
      "---- SBUX: Started... ----\n"
     ]
    },
    {
     "name": "stderr",
     "output_type": "stream",
     "text": [
      "Executing:   0%|                                                                                             | 0/23 [00:00<?, ?cell/s]0.00s - Debugger warning: It seems that frozen modules are being used, which may\n",
      "0.00s - make the debugger miss breakpoints. Please pass -Xfrozen_modules=off\n",
      "0.00s - to python to disable frozen modules.\n",
      "0.00s - Note: Debugging will proceed. Set PYDEVD_DISABLE_FILE_VALIDATION=1 to disable this validation.\n",
      "Executing: 100%|████████████████████████████████████████████████████████████████████████████████████| 23/23 [00:05<00:00,  4.10cell/s]\n",
      "Passed unknown parameter: ticker\n",
      "Passed unknown parameter: months\n",
      "Input notebook does not contain a cell with tag 'parameters'\n"
     ]
    },
    {
     "name": "stdout",
     "output_type": "stream",
     "text": [
      "---- SBUX: Done! ----\n",
      "---- MS: Started... ----\n"
     ]
    },
    {
     "name": "stderr",
     "output_type": "stream",
     "text": [
      "Executing:   0%|                                                                                             | 0/23 [00:00<?, ?cell/s]0.00s - Debugger warning: It seems that frozen modules are being used, which may\n",
      "0.00s - make the debugger miss breakpoints. Please pass -Xfrozen_modules=off\n",
      "0.00s - to python to disable frozen modules.\n",
      "0.00s - Note: Debugging will proceed. Set PYDEVD_DISABLE_FILE_VALIDATION=1 to disable this validation.\n",
      "Executing: 100%|████████████████████████████████████████████████████████████████████████████████████| 23/23 [00:05<00:00,  4.11cell/s]\n",
      "Passed unknown parameter: ticker\n",
      "Passed unknown parameter: months\n",
      "Input notebook does not contain a cell with tag 'parameters'\n"
     ]
    },
    {
     "name": "stdout",
     "output_type": "stream",
     "text": [
      "---- MS: Done! ----\n",
      "---- INTU: Started... ----\n"
     ]
    },
    {
     "name": "stderr",
     "output_type": "stream",
     "text": [
      "Executing:   0%|                                                                                             | 0/23 [00:00<?, ?cell/s]0.00s - Debugger warning: It seems that frozen modules are being used, which may\n",
      "0.00s - make the debugger miss breakpoints. Please pass -Xfrozen_modules=off\n",
      "0.00s - to python to disable frozen modules.\n",
      "0.00s - Note: Debugging will proceed. Set PYDEVD_DISABLE_FILE_VALIDATION=1 to disable this validation.\n",
      "Executing: 100%|████████████████████████████████████████████████████████████████████████████████████| 23/23 [00:05<00:00,  4.01cell/s]\n",
      "Passed unknown parameter: ticker\n",
      "Passed unknown parameter: months\n",
      "Input notebook does not contain a cell with tag 'parameters'\n"
     ]
    },
    {
     "name": "stdout",
     "output_type": "stream",
     "text": [
      "---- INTU: Done! ----\n",
      "---- BRK-B: Started... ----\n"
     ]
    },
    {
     "name": "stderr",
     "output_type": "stream",
     "text": [
      "Executing:   0%|                                                                                             | 0/23 [00:00<?, ?cell/s]0.00s - Debugger warning: It seems that frozen modules are being used, which may\n",
      "0.00s - make the debugger miss breakpoints. Please pass -Xfrozen_modules=off\n",
      "0.00s - to python to disable frozen modules.\n",
      "0.00s - Note: Debugging will proceed. Set PYDEVD_DISABLE_FILE_VALIDATION=1 to disable this validation.\n",
      "Executing: 100%|████████████████████████████████████████████████████████████████████████████████████| 23/23 [00:05<00:00,  4.14cell/s]\n",
      "Passed unknown parameter: ticker\n",
      "Passed unknown parameter: months\n",
      "Input notebook does not contain a cell with tag 'parameters'\n"
     ]
    },
    {
     "name": "stdout",
     "output_type": "stream",
     "text": [
      "---- BRK-B: Done! ----\n",
      "---- AMZN: Started... ----\n"
     ]
    },
    {
     "name": "stderr",
     "output_type": "stream",
     "text": [
      "Executing:   0%|                                                                                             | 0/23 [00:00<?, ?cell/s]0.00s - Debugger warning: It seems that frozen modules are being used, which may\n",
      "0.00s - make the debugger miss breakpoints. Please pass -Xfrozen_modules=off\n",
      "0.00s - to python to disable frozen modules.\n",
      "0.00s - Note: Debugging will proceed. Set PYDEVD_DISABLE_FILE_VALIDATION=1 to disable this validation.\n",
      "Executing: 100%|████████████████████████████████████████████████████████████████████████████████████| 23/23 [00:05<00:00,  4.17cell/s]\n",
      "Passed unknown parameter: ticker\n",
      "Passed unknown parameter: months\n",
      "Input notebook does not contain a cell with tag 'parameters'\n"
     ]
    },
    {
     "name": "stdout",
     "output_type": "stream",
     "text": [
      "---- AMZN: Done! ----\n",
      "---- PLD: Started... ----\n"
     ]
    },
    {
     "name": "stderr",
     "output_type": "stream",
     "text": [
      "Executing:   0%|                                                                                             | 0/23 [00:00<?, ?cell/s]0.00s - Debugger warning: It seems that frozen modules are being used, which may\n",
      "0.00s - make the debugger miss breakpoints. Please pass -Xfrozen_modules=off\n",
      "0.00s - to python to disable frozen modules.\n",
      "0.00s - Note: Debugging will proceed. Set PYDEVD_DISABLE_FILE_VALIDATION=1 to disable this validation.\n",
      "Executing: 100%|████████████████████████████████████████████████████████████████████████████████████| 23/23 [00:05<00:00,  4.10cell/s]\n",
      "Passed unknown parameter: ticker\n",
      "Passed unknown parameter: months\n",
      "Input notebook does not contain a cell with tag 'parameters'\n"
     ]
    },
    {
     "name": "stdout",
     "output_type": "stream",
     "text": [
      "---- PLD: Done! ----\n",
      "---- AMT: Started... ----\n"
     ]
    },
    {
     "name": "stderr",
     "output_type": "stream",
     "text": [
      "Executing:   0%|                                                                                             | 0/23 [00:00<?, ?cell/s]0.00s - Debugger warning: It seems that frozen modules are being used, which may\n",
      "0.00s - make the debugger miss breakpoints. Please pass -Xfrozen_modules=off\n",
      "0.00s - to python to disable frozen modules.\n",
      "0.00s - Note: Debugging will proceed. Set PYDEVD_DISABLE_FILE_VALIDATION=1 to disable this validation.\n",
      "Executing: 100%|████████████████████████████████████████████████████████████████████████████████████| 23/23 [00:05<00:00,  3.93cell/s]\n",
      "Passed unknown parameter: ticker\n",
      "Passed unknown parameter: months\n",
      "Input notebook does not contain a cell with tag 'parameters'\n"
     ]
    },
    {
     "name": "stdout",
     "output_type": "stream",
     "text": [
      "---- AMT: Done! ----\n",
      "---- NVDA: Started... ----\n"
     ]
    },
    {
     "name": "stderr",
     "output_type": "stream",
     "text": [
      "Executing:   0%|                                                                                             | 0/23 [00:00<?, ?cell/s]0.00s - Debugger warning: It seems that frozen modules are being used, which may\n",
      "0.00s - make the debugger miss breakpoints. Please pass -Xfrozen_modules=off\n",
      "0.00s - to python to disable frozen modules.\n",
      "0.00s - Note: Debugging will proceed. Set PYDEVD_DISABLE_FILE_VALIDATION=1 to disable this validation.\n",
      "Executing: 100%|████████████████████████████████████████████████████████████████████████████████████| 23/23 [00:05<00:00,  4.00cell/s]\n",
      "Passed unknown parameter: ticker\n",
      "Passed unknown parameter: months\n",
      "Input notebook does not contain a cell with tag 'parameters'\n"
     ]
    },
    {
     "name": "stdout",
     "output_type": "stream",
     "text": [
      "---- NVDA: Done! ----\n",
      "---- BKNG: Started... ----\n"
     ]
    },
    {
     "name": "stderr",
     "output_type": "stream",
     "text": [
      "Executing:   0%|                                                                                             | 0/23 [00:00<?, ?cell/s]0.00s - Debugger warning: It seems that frozen modules are being used, which may\n",
      "0.00s - make the debugger miss breakpoints. Please pass -Xfrozen_modules=off\n",
      "0.00s - to python to disable frozen modules.\n",
      "0.00s - Note: Debugging will proceed. Set PYDEVD_DISABLE_FILE_VALIDATION=1 to disable this validation.\n",
      "Executing: 100%|████████████████████████████████████████████████████████████████████████████████████| 23/23 [00:05<00:00,  4.18cell/s]\n",
      "Passed unknown parameter: ticker\n",
      "Passed unknown parameter: months\n",
      "Input notebook does not contain a cell with tag 'parameters'\n"
     ]
    },
    {
     "name": "stdout",
     "output_type": "stream",
     "text": [
      "---- BKNG: Done! ----\n",
      "---- GS: Started... ----\n"
     ]
    },
    {
     "name": "stderr",
     "output_type": "stream",
     "text": [
      "Executing:   0%|                                                                                             | 0/23 [00:00<?, ?cell/s]0.00s - Debugger warning: It seems that frozen modules are being used, which may\n",
      "0.00s - make the debugger miss breakpoints. Please pass -Xfrozen_modules=off\n",
      "0.00s - to python to disable frozen modules.\n",
      "0.00s - Note: Debugging will proceed. Set PYDEVD_DISABLE_FILE_VALIDATION=1 to disable this validation.\n",
      "Executing: 100%|████████████████████████████████████████████████████████████████████████████████████| 23/23 [00:05<00:00,  4.12cell/s]\n",
      "Passed unknown parameter: ticker\n",
      "Passed unknown parameter: months\n",
      "Input notebook does not contain a cell with tag 'parameters'\n"
     ]
    },
    {
     "name": "stdout",
     "output_type": "stream",
     "text": [
      "---- GS: Done! ----\n",
      "---- BLK: Started... ----\n"
     ]
    },
    {
     "name": "stderr",
     "output_type": "stream",
     "text": [
      "Executing:   0%|                                                                                             | 0/23 [00:00<?, ?cell/s]0.00s - Debugger warning: It seems that frozen modules are being used, which may\n",
      "0.00s - make the debugger miss breakpoints. Please pass -Xfrozen_modules=off\n",
      "0.00s - to python to disable frozen modules.\n",
      "0.00s - Note: Debugging will proceed. Set PYDEVD_DISABLE_FILE_VALIDATION=1 to disable this validation.\n",
      "Executing: 100%|████████████████████████████████████████████████████████████████████████████████████| 23/23 [00:05<00:00,  4.05cell/s]\n",
      "Passed unknown parameter: ticker\n",
      "Passed unknown parameter: months\n",
      "Input notebook does not contain a cell with tag 'parameters'\n"
     ]
    },
    {
     "name": "stdout",
     "output_type": "stream",
     "text": [
      "---- BLK: Done! ----\n",
      "---- UPS: Started... ----\n"
     ]
    },
    {
     "name": "stderr",
     "output_type": "stream",
     "text": [
      "Executing:   0%|                                                                                             | 0/23 [00:00<?, ?cell/s]0.00s - Debugger warning: It seems that frozen modules are being used, which may\n",
      "0.00s - make the debugger miss breakpoints. Please pass -Xfrozen_modules=off\n",
      "0.00s - to python to disable frozen modules.\n",
      "0.00s - Note: Debugging will proceed. Set PYDEVD_DISABLE_FILE_VALIDATION=1 to disable this validation.\n",
      "Executing: 100%|████████████████████████████████████████████████████████████████████████████████████| 23/23 [00:05<00:00,  4.07cell/s]\n",
      "Passed unknown parameter: ticker\n",
      "Passed unknown parameter: months\n",
      "Input notebook does not contain a cell with tag 'parameters'\n"
     ]
    },
    {
     "name": "stdout",
     "output_type": "stream",
     "text": [
      "---- UPS: Done! ----\n",
      "---- ISRG: Started... ----\n"
     ]
    },
    {
     "name": "stderr",
     "output_type": "stream",
     "text": [
      "Executing:   0%|                                                                                             | 0/23 [00:00<?, ?cell/s]0.00s - Debugger warning: It seems that frozen modules are being used, which may\n",
      "0.00s - make the debugger miss breakpoints. Please pass -Xfrozen_modules=off\n",
      "0.00s - to python to disable frozen modules.\n",
      "0.00s - Note: Debugging will proceed. Set PYDEVD_DISABLE_FILE_VALIDATION=1 to disable this validation.\n",
      "Executing: 100%|████████████████████████████████████████████████████████████████████████████████████| 23/23 [00:05<00:00,  4.02cell/s]\n",
      "Passed unknown parameter: ticker\n",
      "Passed unknown parameter: months\n",
      "Input notebook does not contain a cell with tag 'parameters'\n"
     ]
    },
    {
     "name": "stdout",
     "output_type": "stream",
     "text": [
      "---- ISRG: Done! ----\n",
      "---- MDLZ: Started... ----\n"
     ]
    },
    {
     "name": "stderr",
     "output_type": "stream",
     "text": [
      "Executing:   0%|                                                                                             | 0/23 [00:00<?, ?cell/s]0.00s - Debugger warning: It seems that frozen modules are being used, which may\n",
      "0.00s - make the debugger miss breakpoints. Please pass -Xfrozen_modules=off\n",
      "0.00s - to python to disable frozen modules.\n",
      "0.00s - Note: Debugging will proceed. Set PYDEVD_DISABLE_FILE_VALIDATION=1 to disable this validation.\n",
      "Executing: 100%|████████████████████████████████████████████████████████████████████████████████████| 23/23 [00:05<00:00,  4.15cell/s]\n",
      "Passed unknown parameter: ticker\n",
      "Passed unknown parameter: months\n",
      "Input notebook does not contain a cell with tag 'parameters'\n"
     ]
    },
    {
     "name": "stdout",
     "output_type": "stream",
     "text": [
      "---- MDLZ: Done! ----\n",
      "---- ELV: Started... ----\n"
     ]
    },
    {
     "name": "stderr",
     "output_type": "stream",
     "text": [
      "Executing:   0%|                                                                                             | 0/23 [00:00<?, ?cell/s]0.00s - Debugger warning: It seems that frozen modules are being used, which may\n",
      "0.00s - make the debugger miss breakpoints. Please pass -Xfrozen_modules=off\n",
      "0.00s - to python to disable frozen modules.\n",
      "0.00s - Note: Debugging will proceed. Set PYDEVD_DISABLE_FILE_VALIDATION=1 to disable this validation.\n",
      "Executing: 100%|████████████████████████████████████████████████████████████████████████████████████| 23/23 [00:05<00:00,  4.13cell/s]\n",
      "Passed unknown parameter: ticker\n",
      "Passed unknown parameter: months\n",
      "Input notebook does not contain a cell with tag 'parameters'\n"
     ]
    },
    {
     "name": "stdout",
     "output_type": "stream",
     "text": [
      "---- ELV: Done! ----\n",
      "---- NFLX: Started... ----\n"
     ]
    },
    {
     "name": "stderr",
     "output_type": "stream",
     "text": [
      "Executing:   0%|                                                                                             | 0/23 [00:00<?, ?cell/s]0.00s - Debugger warning: It seems that frozen modules are being used, which may\n",
      "0.00s - make the debugger miss breakpoints. Please pass -Xfrozen_modules=off\n",
      "0.00s - to python to disable frozen modules.\n",
      "0.00s - Note: Debugging will proceed. Set PYDEVD_DISABLE_FILE_VALIDATION=1 to disable this validation.\n",
      "Executing: 100%|████████████████████████████████████████████████████████████████████████████████████| 23/23 [00:05<00:00,  3.97cell/s]\n",
      "Passed unknown parameter: ticker\n",
      "Passed unknown parameter: months\n",
      "Input notebook does not contain a cell with tag 'parameters'\n"
     ]
    },
    {
     "name": "stdout",
     "output_type": "stream",
     "text": [
      "---- NFLX: Done! ----\n",
      "---- CRM: Started... ----\n"
     ]
    },
    {
     "name": "stderr",
     "output_type": "stream",
     "text": [
      "Executing:   0%|                                                                                             | 0/23 [00:00<?, ?cell/s]0.00s - Debugger warning: It seems that frozen modules are being used, which may\n",
      "0.00s - make the debugger miss breakpoints. Please pass -Xfrozen_modules=off\n",
      "0.00s - to python to disable frozen modules.\n",
      "0.00s - Note: Debugging will proceed. Set PYDEVD_DISABLE_FILE_VALIDATION=1 to disable this validation.\n",
      "Executing: 100%|████████████████████████████████████████████████████████████████████████████████████| 23/23 [00:05<00:00,  4.11cell/s]\n",
      "Passed unknown parameter: ticker\n",
      "Passed unknown parameter: months\n",
      "Input notebook does not contain a cell with tag 'parameters'\n"
     ]
    },
    {
     "name": "stdout",
     "output_type": "stream",
     "text": [
      "---- CRM: Done! ----\n",
      "---- GOOG: Started... ----\n"
     ]
    },
    {
     "name": "stderr",
     "output_type": "stream",
     "text": [
      "Executing:   0%|                                                                                             | 0/23 [00:00<?, ?cell/s]0.00s - Debugger warning: It seems that frozen modules are being used, which may\n",
      "0.00s - make the debugger miss breakpoints. Please pass -Xfrozen_modules=off\n",
      "0.00s - to python to disable frozen modules.\n",
      "0.00s - Note: Debugging will proceed. Set PYDEVD_DISABLE_FILE_VALIDATION=1 to disable this validation.\n",
      "Executing: 100%|████████████████████████████████████████████████████████████████████████████████████| 23/23 [00:05<00:00,  4.03cell/s]\n",
      "Passed unknown parameter: ticker\n",
      "Passed unknown parameter: months\n",
      "Input notebook does not contain a cell with tag 'parameters'\n"
     ]
    },
    {
     "name": "stdout",
     "output_type": "stream",
     "text": [
      "---- GOOG: Done! ----\n",
      "---- MA: Started... ----\n"
     ]
    },
    {
     "name": "stderr",
     "output_type": "stream",
     "text": [
      "Executing:   0%|                                                                                             | 0/23 [00:00<?, ?cell/s]0.00s - Debugger warning: It seems that frozen modules are being used, which may\n",
      "0.00s - make the debugger miss breakpoints. Please pass -Xfrozen_modules=off\n",
      "0.00s - to python to disable frozen modules.\n",
      "0.00s - Note: Debugging will proceed. Set PYDEVD_DISABLE_FILE_VALIDATION=1 to disable this validation.\n",
      "Executing: 100%|████████████████████████████████████████████████████████████████████████████████████| 23/23 [00:05<00:00,  4.15cell/s]\n",
      "Passed unknown parameter: ticker\n",
      "Passed unknown parameter: months\n",
      "Input notebook does not contain a cell with tag 'parameters'\n"
     ]
    },
    {
     "name": "stdout",
     "output_type": "stream",
     "text": [
      "---- MA: Done! ----\n",
      "---- TMUS: Started... ----\n"
     ]
    },
    {
     "name": "stderr",
     "output_type": "stream",
     "text": [
      "Executing:   0%|                                                                                             | 0/23 [00:00<?, ?cell/s]0.00s - Debugger warning: It seems that frozen modules are being used, which may\n",
      "0.00s - make the debugger miss breakpoints. Please pass -Xfrozen_modules=off\n",
      "0.00s - to python to disable frozen modules.\n",
      "0.00s - Note: Debugging will proceed. Set PYDEVD_DISABLE_FILE_VALIDATION=1 to disable this validation.\n",
      "Executing: 100%|████████████████████████████████████████████████████████████████████████████████████| 23/23 [00:05<00:00,  4.00cell/s]\n",
      "Passed unknown parameter: ticker\n",
      "Passed unknown parameter: months\n",
      "Input notebook does not contain a cell with tag 'parameters'\n"
     ]
    },
    {
     "name": "stdout",
     "output_type": "stream",
     "text": [
      "---- TMUS: Done! ----\n",
      "---- BX: Started... ----\n"
     ]
    },
    {
     "name": "stderr",
     "output_type": "stream",
     "text": [
      "Executing:   0%|                                                                                             | 0/23 [00:00<?, ?cell/s]0.00s - Debugger warning: It seems that frozen modules are being used, which may\n",
      "0.00s - make the debugger miss breakpoints. Please pass -Xfrozen_modules=off\n",
      "0.00s - to python to disable frozen modules.\n",
      "0.00s - Note: Debugging will proceed. Set PYDEVD_DISABLE_FILE_VALIDATION=1 to disable this validation.\n",
      "Executing: 100%|████████████████████████████████████████████████████████████████████████████████████| 23/23 [00:05<00:00,  4.13cell/s]\n",
      "Passed unknown parameter: ticker\n",
      "Passed unknown parameter: months\n",
      "Input notebook does not contain a cell with tag 'parameters'\n"
     ]
    },
    {
     "name": "stdout",
     "output_type": "stream",
     "text": [
      "---- BX: Done! ----\n",
      "---- PM: Started... ----\n"
     ]
    },
    {
     "name": "stderr",
     "output_type": "stream",
     "text": [
      "Executing:   0%|                                                                                             | 0/23 [00:00<?, ?cell/s]0.00s - Debugger warning: It seems that frozen modules are being used, which may\n",
      "0.00s - make the debugger miss breakpoints. Please pass -Xfrozen_modules=off\n",
      "0.00s - to python to disable frozen modules.\n",
      "0.00s - Note: Debugging will proceed. Set PYDEVD_DISABLE_FILE_VALIDATION=1 to disable this validation.\n",
      "Executing: 100%|████████████████████████████████████████████████████████████████████████████████████| 23/23 [00:05<00:00,  4.07cell/s]\n",
      "Passed unknown parameter: ticker\n",
      "Passed unknown parameter: months\n",
      "Input notebook does not contain a cell with tag 'parameters'\n"
     ]
    },
    {
     "name": "stdout",
     "output_type": "stream",
     "text": [
      "---- PM: Done! ----\n",
      "---- V: Started... ----\n"
     ]
    },
    {
     "name": "stderr",
     "output_type": "stream",
     "text": [
      "Executing:   0%|                                                                                             | 0/23 [00:00<?, ?cell/s]0.00s - Debugger warning: It seems that frozen modules are being used, which may\n",
      "0.00s - make the debugger miss breakpoints. Please pass -Xfrozen_modules=off\n",
      "0.00s - to python to disable frozen modules.\n",
      "0.00s - Note: Debugging will proceed. Set PYDEVD_DISABLE_FILE_VALIDATION=1 to disable this validation.\n",
      "Executing: 100%|████████████████████████████████████████████████████████████████████████████████████| 23/23 [00:05<00:00,  4.12cell/s]\n",
      "Passed unknown parameter: ticker\n",
      "Passed unknown parameter: months\n",
      "Input notebook does not contain a cell with tag 'parameters'\n"
     ]
    },
    {
     "name": "stdout",
     "output_type": "stream",
     "text": [
      "---- V: Done! ----\n",
      "---- AVGO: Started... ----\n"
     ]
    },
    {
     "name": "stderr",
     "output_type": "stream",
     "text": [
      "Executing:   0%|                                                                                             | 0/23 [00:00<?, ?cell/s]0.00s - Debugger warning: It seems that frozen modules are being used, which may\n",
      "0.00s - make the debugger miss breakpoints. Please pass -Xfrozen_modules=off\n",
      "0.00s - to python to disable frozen modules.\n",
      "0.00s - Note: Debugging will proceed. Set PYDEVD_DISABLE_FILE_VALIDATION=1 to disable this validation.\n",
      "Executing: 100%|████████████████████████████████████████████████████████████████████████████████████| 23/23 [00:05<00:00,  4.11cell/s]\n",
      "Passed unknown parameter: ticker\n",
      "Passed unknown parameter: months\n",
      "Input notebook does not contain a cell with tag 'parameters'\n"
     ]
    },
    {
     "name": "stdout",
     "output_type": "stream",
     "text": [
      "---- AVGO: Done! ----\n",
      "---- TSLA: Started... ----\n"
     ]
    },
    {
     "name": "stderr",
     "output_type": "stream",
     "text": [
      "Executing:   0%|                                                                                             | 0/23 [00:00<?, ?cell/s]0.00s - Debugger warning: It seems that frozen modules are being used, which may\n",
      "0.00s - make the debugger miss breakpoints. Please pass -Xfrozen_modules=off\n",
      "0.00s - to python to disable frozen modules.\n",
      "0.00s - Note: Debugging will proceed. Set PYDEVD_DISABLE_FILE_VALIDATION=1 to disable this validation.\n",
      "Executing: 100%|████████████████████████████████████████████████████████████████████████████████████| 23/23 [00:05<00:00,  4.07cell/s]\n",
      "Passed unknown parameter: ticker\n",
      "Passed unknown parameter: months\n",
      "Input notebook does not contain a cell with tag 'parameters'\n"
     ]
    },
    {
     "name": "stdout",
     "output_type": "stream",
     "text": [
      "---- TSLA: Done! ----\n",
      "---- KKR: Started... ----\n"
     ]
    },
    {
     "name": "stderr",
     "output_type": "stream",
     "text": [
      "Executing:   0%|                                                                                             | 0/23 [00:00<?, ?cell/s]0.00s - Debugger warning: It seems that frozen modules are being used, which may\n",
      "0.00s - make the debugger miss breakpoints. Please pass -Xfrozen_modules=off\n",
      "0.00s - to python to disable frozen modules.\n",
      "0.00s - Note: Debugging will proceed. Set PYDEVD_DISABLE_FILE_VALIDATION=1 to disable this validation.\n",
      "Executing: 100%|████████████████████████████████████████████████████████████████████████████████████| 23/23 [00:05<00:00,  4.04cell/s]\n",
      "Passed unknown parameter: ticker\n",
      "Passed unknown parameter: months\n",
      "Input notebook does not contain a cell with tag 'parameters'\n"
     ]
    },
    {
     "name": "stdout",
     "output_type": "stream",
     "text": [
      "---- KKR: Done! ----\n",
      "---- META: Started... ----\n"
     ]
    },
    {
     "name": "stderr",
     "output_type": "stream",
     "text": [
      "Executing:   0%|                                                                                             | 0/23 [00:00<?, ?cell/s]0.00s - Debugger warning: It seems that frozen modules are being used, which may\n",
      "0.00s - make the debugger miss breakpoints. Please pass -Xfrozen_modules=off\n",
      "0.00s - to python to disable frozen modules.\n",
      "0.00s - Note: Debugging will proceed. Set PYDEVD_DISABLE_FILE_VALIDATION=1 to disable this validation.\n",
      "Executing: 100%|████████████████████████████████████████████████████████████████████████████████████| 23/23 [00:05<00:00,  4.06cell/s]\n",
      "Passed unknown parameter: ticker\n",
      "Passed unknown parameter: months\n",
      "Input notebook does not contain a cell with tag 'parameters'\n"
     ]
    },
    {
     "name": "stdout",
     "output_type": "stream",
     "text": [
      "---- META: Done! ----\n",
      "---- NOW: Started... ----\n"
     ]
    },
    {
     "name": "stderr",
     "output_type": "stream",
     "text": [
      "Executing:   0%|                                                                                             | 0/23 [00:00<?, ?cell/s]0.00s - Debugger warning: It seems that frozen modules are being used, which may\n",
      "0.00s - make the debugger miss breakpoints. Please pass -Xfrozen_modules=off\n",
      "0.00s - to python to disable frozen modules.\n",
      "0.00s - Note: Debugging will proceed. Set PYDEVD_DISABLE_FILE_VALIDATION=1 to disable this validation.\n",
      "Executing: 100%|████████████████████████████████████████████████████████████████████████████████████| 23/23 [00:05<00:00,  4.07cell/s]\n",
      "Passed unknown parameter: ticker\n",
      "Passed unknown parameter: months\n",
      "Input notebook does not contain a cell with tag 'parameters'\n"
     ]
    },
    {
     "name": "stdout",
     "output_type": "stream",
     "text": [
      "---- NOW: Done! ----\n",
      "---- PANW: Started... ----\n"
     ]
    },
    {
     "name": "stderr",
     "output_type": "stream",
     "text": [
      "Executing:   0%|                                                                                             | 0/23 [00:00<?, ?cell/s]0.00s - Debugger warning: It seems that frozen modules are being used, which may\n",
      "0.00s - make the debugger miss breakpoints. Please pass -Xfrozen_modules=off\n",
      "0.00s - to python to disable frozen modules.\n",
      "0.00s - Note: Debugging will proceed. Set PYDEVD_DISABLE_FILE_VALIDATION=1 to disable this validation.\n",
      "Executing: 100%|████████████████████████████████████████████████████████████████████████████████████| 23/23 [00:05<00:00,  3.96cell/s]\n",
      "Passed unknown parameter: ticker\n",
      "Passed unknown parameter: months\n",
      "Input notebook does not contain a cell with tag 'parameters'\n"
     ]
    },
    {
     "name": "stdout",
     "output_type": "stream",
     "text": [
      "---- PANW: Done! ----\n",
      "---- ABBV: Started... ----\n"
     ]
    },
    {
     "name": "stderr",
     "output_type": "stream",
     "text": [
      "Executing:   0%|                                                                                             | 0/23 [00:00<?, ?cell/s]0.00s - Debugger warning: It seems that frozen modules are being used, which may\n",
      "0.00s - make the debugger miss breakpoints. Please pass -Xfrozen_modules=off\n",
      "0.00s - to python to disable frozen modules.\n",
      "0.00s - Note: Debugging will proceed. Set PYDEVD_DISABLE_FILE_VALIDATION=1 to disable this validation.\n",
      "Executing: 100%|████████████████████████████████████████████████████████████████████████████████████| 23/23 [00:05<00:00,  4.35cell/s]\n",
      "Passed unknown parameter: ticker\n",
      "Passed unknown parameter: months\n",
      "Input notebook does not contain a cell with tag 'parameters'\n"
     ]
    },
    {
     "name": "stdout",
     "output_type": "stream",
     "text": [
      "---- ABBV: Done! ----\n",
      "---- ZTS: Started... ----\n"
     ]
    },
    {
     "name": "stderr",
     "output_type": "stream",
     "text": [
      "Executing:   0%|                                                                                             | 0/23 [00:00<?, ?cell/s]0.00s - Debugger warning: It seems that frozen modules are being used, which may\n",
      "0.00s - make the debugger miss breakpoints. Please pass -Xfrozen_modules=off\n",
      "0.00s - to python to disable frozen modules.\n",
      "0.00s - Note: Debugging will proceed. Set PYDEVD_DISABLE_FILE_VALIDATION=1 to disable this validation.\n",
      "Executing: 100%|████████████████████████████████████████████████████████████████████████████████████| 23/23 [00:05<00:00,  4.07cell/s]\n",
      "Passed unknown parameter: ticker\n",
      "Passed unknown parameter: months\n",
      "Input notebook does not contain a cell with tag 'parameters'\n"
     ]
    },
    {
     "name": "stdout",
     "output_type": "stream",
     "text": [
      "---- ZTS: Done! ----\n",
      "---- UBER: Started... ----\n"
     ]
    },
    {
     "name": "stderr",
     "output_type": "stream",
     "text": [
      "Executing:   0%|                                                                                             | 0/23 [00:00<?, ?cell/s]0.00s - Debugger warning: It seems that frozen modules are being used, which may\n",
      "0.00s - make the debugger miss breakpoints. Please pass -Xfrozen_modules=off\n",
      "0.00s - to python to disable frozen modules.\n",
      "0.00s - Note: Debugging will proceed. Set PYDEVD_DISABLE_FILE_VALIDATION=1 to disable this validation.\n",
      "Executing: 100%|████████████████████████████████████████████████████████████████████████████████████| 23/23 [00:05<00:00,  4.00cell/s]\n",
      "Passed unknown parameter: ticker\n",
      "Passed unknown parameter: months\n",
      "Input notebook does not contain a cell with tag 'parameters'\n"
     ]
    },
    {
     "name": "stdout",
     "output_type": "stream",
     "text": [
      "---- UBER: Done! ----\n",
      "---- ABNB: Started... ----\n"
     ]
    },
    {
     "name": "stderr",
     "output_type": "stream",
     "text": [
      "Executing:   0%|                                                                                             | 0/23 [00:00<?, ?cell/s]0.00s - Debugger warning: It seems that frozen modules are being used, which may\n",
      "0.00s - make the debugger miss breakpoints. Please pass -Xfrozen_modules=off\n",
      "0.00s - to python to disable frozen modules.\n",
      "0.00s - Note: Debugging will proceed. Set PYDEVD_DISABLE_FILE_VALIDATION=1 to disable this validation.\n",
      "Executing: 100%|████████████████████████████████████████████████████████████████████████████████████| 23/23 [00:05<00:00,  4.07cell/s]"
     ]
    },
    {
     "name": "stdout",
     "output_type": "stream",
     "text": [
      "---- ABNB: Done! ----\n"
     ]
    },
    {
     "name": "stderr",
     "output_type": "stream",
     "text": [
      "\n"
     ]
    }
   ],
   "source": [
    "for ticker in uniqueTickers:\n",
    "    print(\"---- {}: Started... ----\". format(ticker))\n",
    "    _ = pm.execute_notebook(\n",
    "        \"./hw2_template.ipynb\",\n",
    "        \"{}/output_notebook_{}.ipynb\".format(outputDir, ticker),\n",
    "        parameters = {\"ticker\": ticker, \"months\": 6}\n",
    "    )\n",
    "    print(\"---- {}: Done! ----\".format(ticker))"
   ]
  },
  {
   "cell_type": "markdown",
   "id": "775e2c4b-f921-4ae1-8e84-c7cebe141836",
   "metadata": {
    "editable": true,
    "slideshow": {
     "slide_type": ""
    },
    "tags": []
   },
   "source": [
    "# Creating the Summary Table"
   ]
  },
  {
   "cell_type": "code",
   "execution_count": 25,
   "id": "d40a3059-5fc8-4153-87c6-ee30ba9b04df",
   "metadata": {
    "editable": true,
    "slideshow": {
     "slide_type": ""
    },
    "tags": []
   },
   "outputs": [
    {
     "data": {
      "text/html": [
       "<div>\n",
       "<style scoped>\n",
       "    .dataframe tbody tr th:only-of-type {\n",
       "        vertical-align: middle;\n",
       "    }\n",
       "\n",
       "    .dataframe tbody tr th {\n",
       "        vertical-align: top;\n",
       "    }\n",
       "\n",
       "    .dataframe thead th {\n",
       "        text-align: right;\n",
       "    }\n",
       "</style>\n",
       "<table border=\"1\" class=\"dataframe\">\n",
       "  <thead>\n",
       "    <tr style=\"text-align: right;\">\n",
       "      <th></th>\n",
       "      <th>ticker</th>\n",
       "      <th>average_daily_returns</th>\n",
       "      <th>average_volatility</th>\n",
       "      <th>maximum_drawdown</th>\n",
       "      <th>adjusted_close_range</th>\n",
       "    </tr>\n",
       "  </thead>\n",
       "  <tbody>\n",
       "    <tr>\n",
       "      <th>0</th>\n",
       "      <td>AAPL</td>\n",
       "      <td>0.000944</td>\n",
       "      <td>0.208912</td>\n",
       "      <td>0.150471</td>\n",
       "      <td>13.757222</td>\n",
       "    </tr>\n",
       "    <tr>\n",
       "      <th>1</th>\n",
       "      <td>ABBV</td>\n",
       "      <td>0.000153</td>\n",
       "      <td>0.210386</td>\n",
       "      <td>0.143162</td>\n",
       "      <td>23.359116</td>\n",
       "    </tr>\n",
       "    <tr>\n",
       "      <th>2</th>\n",
       "      <td>ABNB</td>\n",
       "      <td>0.002040</td>\n",
       "      <td>0.392243</td>\n",
       "      <td>0.255919</td>\n",
       "      <td>54.532693</td>\n",
       "    </tr>\n",
       "    <tr>\n",
       "      <th>3</th>\n",
       "      <td>ABT</td>\n",
       "      <td>-0.000582</td>\n",
       "      <td>0.213713</td>\n",
       "      <td>0.213139</td>\n",
       "      <td>17.712334</td>\n",
       "    </tr>\n",
       "    <tr>\n",
       "      <th>4</th>\n",
       "      <td>ADBE</td>\n",
       "      <td>0.001878</td>\n",
       "      <td>0.302941</td>\n",
       "      <td>0.295659</td>\n",
       "      <td>66.951351</td>\n",
       "    </tr>\n",
       "    <tr>\n",
       "      <th>...</th>\n",
       "      <td>...</td>\n",
       "      <td>...</td>\n",
       "      <td>...</td>\n",
       "      <td>...</td>\n",
       "      <td>...</td>\n",
       "    </tr>\n",
       "    <tr>\n",
       "      <th>95</th>\n",
       "      <td>VZ</td>\n",
       "      <td>-0.000507</td>\n",
       "      <td>0.232012</td>\n",
       "      <td>0.206468</td>\n",
       "      <td>7.089998</td>\n",
       "    </tr>\n",
       "    <tr>\n",
       "      <th>96</th>\n",
       "      <td>WFC</td>\n",
       "      <td>-0.000085</td>\n",
       "      <td>0.248926</td>\n",
       "      <td>0.179504</td>\n",
       "      <td>7.933521</td>\n",
       "    </tr>\n",
       "    <tr>\n",
       "      <th>97</th>\n",
       "      <td>WMT</td>\n",
       "      <td>-0.000068</td>\n",
       "      <td>0.170406</td>\n",
       "      <td>0.103722</td>\n",
       "      <td>14.256106</td>\n",
       "    </tr>\n",
       "    <tr>\n",
       "      <th>98</th>\n",
       "      <td>XOM</td>\n",
       "      <td>-0.001072</td>\n",
       "      <td>0.247467</td>\n",
       "      <td>0.181198</td>\n",
       "      <td>17.801514</td>\n",
       "    </tr>\n",
       "    <tr>\n",
       "      <th>99</th>\n",
       "      <td>ZTS</td>\n",
       "      <td>0.000373</td>\n",
       "      <td>0.255391</td>\n",
       "      <td>0.214401</td>\n",
       "      <td>36.652252</td>\n",
       "    </tr>\n",
       "  </tbody>\n",
       "</table>\n",
       "<p>100 rows × 5 columns</p>\n",
       "</div>"
      ],
      "text/plain": [
       "   ticker  average_daily_returns  average_volatility  maximum_drawdown  \\\n",
       "0    AAPL               0.000944            0.208912          0.150471   \n",
       "1    ABBV               0.000153            0.210386          0.143162   \n",
       "2    ABNB               0.002040            0.392243          0.255919   \n",
       "3     ABT              -0.000582            0.213713          0.213139   \n",
       "4    ADBE               0.001878            0.302941          0.295659   \n",
       "..    ...                    ...                 ...               ...   \n",
       "95     VZ              -0.000507            0.232012          0.206468   \n",
       "96    WFC              -0.000085            0.248926          0.179504   \n",
       "97    WMT              -0.000068            0.170406          0.103722   \n",
       "98    XOM              -0.001072            0.247467          0.181198   \n",
       "99    ZTS               0.000373            0.255391          0.214401   \n",
       "\n",
       "    adjusted_close_range  \n",
       "0              13.757222  \n",
       "1              23.359116  \n",
       "2              54.532693  \n",
       "3              17.712334  \n",
       "4              66.951351  \n",
       "..                   ...  \n",
       "95              7.089998  \n",
       "96              7.933521  \n",
       "97             14.256106  \n",
       "98             17.801514  \n",
       "99             36.652252  \n",
       "\n",
       "[100 rows x 5 columns]"
      ]
     },
     "execution_count": 25,
     "metadata": {},
     "output_type": "execute_result"
    }
   ],
   "source": [
    "outputs = sb.read_notebooks(\"../output/\")\n",
    "result = pd.DataFrame([\n",
    "    pd.Series({\n",
    "        \"ticker\": x[\"ticker\"].data,\n",
    "        \"average_daily_returns\": x[\"df\"].data[\"return\"].mean(),\n",
    "        \"average_volatility\": x[\"df\"].data[\"volatility\"].mean(),\n",
    "        \"maximum_drawdown\": x[\"df\"].data[\"max_drawdown\"].max(),\n",
    "        \"adjusted_close_range\": x[\"df\"].data[\"adj_close\"].max() - x[\"df\"].data[\"adj_close\"].min()\n",
    "    }) for _, x in outputs.notebook_scraps.items()\n",
    "])\n",
    "result"
   ]
  },
  {
   "cell_type": "code",
   "execution_count": 26,
   "id": "c60d8292-32f0-4a07-98d2-e3d0f18f0565",
   "metadata": {},
   "outputs": [],
   "source": [
    "result.to_csv(\"../data/summary_table.csv\", index = False)"
   ]
  },
  {
   "cell_type": "code",
   "execution_count": null,
   "id": "df05c02d-589e-4bfa-a27d-ebe11afc8860",
   "metadata": {
    "editable": true,
    "slideshow": {
     "slide_type": ""
    },
    "tags": []
   },
   "outputs": [],
   "source": []
  }
 ],
 "metadata": {
  "kernelspec": {
   "display_name": "Python 3 (ipykernel)",
   "language": "python",
   "name": "python3"
  },
  "language_info": {
   "codemirror_mode": {
    "name": "ipython",
    "version": 3
   },
   "file_extension": ".py",
   "mimetype": "text/x-python",
   "name": "python",
   "nbconvert_exporter": "python",
   "pygments_lexer": "ipython3",
   "version": "3.12.0"
  }
 },
 "nbformat": 4,
 "nbformat_minor": 5
}
